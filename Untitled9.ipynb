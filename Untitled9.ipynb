{
 "cells": [
  {
   "cell_type": "code",
   "execution_count": 9,
   "id": "ebd9175a",
   "metadata": {},
   "outputs": [
    {
     "name": "stdout",
     "output_type": "stream",
     "text": [
      "Enter the user name : t\n",
      "Enter the user name : t\n",
      "Enter the user name : t\n",
      "Enter the user name : t\n",
      "Enter the user name : t\n"
     ]
    }
   ],
   "source": [
    "lidtname=[]\n",
    "l=\"\"\n",
    "for i in range(0,5):\n",
    "    #l=input(\"Enter the user name : \")\n",
    "    lidtname.append(input(\"Enter the user name : \"))"
   ]
  },
  {
   "cell_type": "code",
   "execution_count": 10,
   "id": "c109ffbd",
   "metadata": {},
   "outputs": [
    {
     "data": {
      "text/plain": [
       "['t', 't', 't', 't', 't']"
      ]
     },
     "execution_count": 10,
     "metadata": {},
     "output_type": "execute_result"
    }
   ],
   "source": [
    "lidtname"
   ]
  },
  {
   "cell_type": "code",
   "execution_count": 11,
   "id": "6588be42",
   "metadata": {},
   "outputs": [
    {
     "name": "stdout",
     "output_type": "stream",
     "text": [
      "Enter the user name : gdgd\n",
      "Enter the user name : dggdg\n"
     ]
    },
    {
     "ename": "TypeError",
     "evalue": "'>' not supported between instances of 'int' and 'str'",
     "output_type": "error",
     "traceback": [
      "\u001b[1;31m---------------------------------------------------------------------------\u001b[0m",
      "\u001b[1;31mTypeError\u001b[0m                                 Traceback (most recent call last)",
      "Cell \u001b[1;32mIn[11], line 6\u001b[0m\n\u001b[0;32m      3\u001b[0m \u001b[38;5;28;01mfor\u001b[39;00m i \u001b[38;5;129;01min\u001b[39;00m \u001b[38;5;28mrange\u001b[39m(\u001b[38;5;241m0\u001b[39m,\u001b[38;5;241m5\u001b[39m):\n\u001b[0;32m      4\u001b[0m     \u001b[38;5;66;03m#l=input(\"Enter the user name : \")\u001b[39;00m\n\u001b[0;32m      5\u001b[0m     lidtname\u001b[38;5;241m.\u001b[39mappend(\u001b[38;5;28minput\u001b[39m(\u001b[38;5;124m\"\u001b[39m\u001b[38;5;124mEnter the user name : \u001b[39m\u001b[38;5;124m\"\u001b[39m))\n\u001b[1;32m----> 6\u001b[0m     \u001b[38;5;28;01mif\u001b[39;00m \u001b[38;5;28mlen\u001b[39m(lidtname[i])\u001b[38;5;241m>\u001b[39mres:\n\u001b[0;32m      7\u001b[0m         res\u001b[38;5;241m=\u001b[39mlidtname[i]\n",
      "\u001b[1;31mTypeError\u001b[0m: '>' not supported between instances of 'int' and 'str'"
     ]
    }
   ],
   "source": [
    "\n",
    "lidtname=[]\n",
    "res=0\n",
    "for i in range(0,5):\n",
    "    #l=input(\"Enter the user name : \")\n",
    "    lidtname.append(input(\"Enter the user name : \"))\n",
    "    if len(lidtname[i])>res:\n",
    "        res=lidtname[i]"
   ]
  },
  {
   "cell_type": "code",
   "execution_count": 7,
   "id": "2cd0b0dd",
   "metadata": {},
   "outputs": [
    {
     "name": "stdout",
     "output_type": "stream",
     "text": [
      "enter a name: hddff\n",
      "enter a name: fs\n",
      "enter a name: ffsdf\n",
      "enter a name: sdf\n",
      "enter a name: sf\n"
     ]
    },
    {
     "data": {
      "text/plain": [
       "'hddff'"
      ]
     },
     "execution_count": 7,
     "metadata": {},
     "output_type": "execute_result"
    }
   ],
   "source": [
    "def Max():\n",
    "    li=[]\n",
    "    res=0\n",
    "    for i in range(5):\n",
    "        li.append(input('enter a name: '))\n",
    "        if len(li[i])>res:\n",
    "            res=len(li[i])\n",
    "            temp=li[i]\n",
    "    return temp\n",
    "\n",
    "Max()"
   ]
  },
  {
   "cell_type": "code",
   "execution_count": 8,
   "id": "07253dbb",
   "metadata": {},
   "outputs": [],
   "source": [
    "#lamda\n",
    "l=lambda a,b,c,d:a*b*c/d"
   ]
  },
  {
   "cell_type": "code",
   "execution_count": 9,
   "id": "961f9174",
   "metadata": {},
   "outputs": [
    {
     "data": {
      "text/plain": [
       "25.0"
      ]
     },
     "execution_count": 9,
     "metadata": {},
     "output_type": "execute_result"
    }
   ],
   "source": [
    "l(5,6,5,6)"
   ]
  },
  {
   "cell_type": "code",
   "execution_count": 12,
   "id": "7e4b3810",
   "metadata": {},
   "outputs": [
    {
     "name": "stdout",
     "output_type": "stream",
     "text": [
      "Number56\n",
      "Number65\n",
      "Number42\n",
      "Number65\n",
      "Number26\n"
     ]
    }
   ],
   "source": [
    "l1=[]\n",
    "for i in range(5):\n",
    "    l1.append(int(input(\"Number\")))\n",
    "              "
   ]
  },
  {
   "cell_type": "code",
   "execution_count": 21,
   "id": "99f6f335",
   "metadata": {},
   "outputs": [],
   "source": [
    "z=lambda :\"Even\" if i%2==0 else \"odd\""
   ]
  },
  {
   "cell_type": "code",
   "execution_count": 22,
   "id": "a3979f08",
   "metadata": {},
   "outputs": [],
   "source": [
    "for i in l1:\n",
    "    z()"
   ]
  },
  {
   "cell_type": "code",
   "execution_count": null,
   "id": "724fb1de",
   "metadata": {},
   "outputs": [],
   "source": [
    "### craete an empty list\n",
    "## ask the user 5 times to input any number \n",
    "## use lambda function to test for odd and even and pass that number4 to another list calling odd /even"
   ]
  },
  {
   "cell_type": "code",
   "execution_count": 30,
   "id": "be4a54e6",
   "metadata": {},
   "outputs": [],
   "source": [
    "n=2\n",
    "is_even=lambda n: n%2==0\n",
    "\n",
    "odd=[]\n",
    "even=[]"
   ]
  },
  {
   "cell_type": "code",
   "execution_count": 31,
   "id": "0dd5e242",
   "metadata": {},
   "outputs": [],
   "source": [
    "for i in l1:\n",
    "    if is_even(i):\n",
    "        odd.append(i)\n",
    "    else:\n",
    "        even.append(i)\n",
    "        "
   ]
  },
  {
   "cell_type": "code",
   "execution_count": 32,
   "id": "4c293fd5",
   "metadata": {},
   "outputs": [
    {
     "name": "stdout",
     "output_type": "stream",
     "text": [
      "[56, 42, 26]\n",
      "[65, 65]\n"
     ]
    }
   ],
   "source": [
    "print(odd)\n",
    "print(even)"
   ]
  },
  {
   "cell_type": "code",
   "execution_count": 39,
   "id": "e2317521",
   "metadata": {},
   "outputs": [],
   "source": [
    "numbers = [1, 2, 3, 4, 5, 6, 7, 8, 9, 10]\n",
    "even_numbers = list(filter(lambda x: x % 2 == 1,numbers))\n"
   ]
  },
  {
   "cell_type": "code",
   "execution_count": 36,
   "id": "74c34481",
   "metadata": {},
   "outputs": [
    {
     "data": {
      "text/plain": [
       "[1, 3, 5, 7, 9]"
      ]
     },
     "execution_count": 36,
     "metadata": {},
     "output_type": "execute_result"
    }
   ],
   "source": [
    "even_numbers"
   ]
  },
  {
   "cell_type": "code",
   "execution_count": 40,
   "id": "4854359b",
   "metadata": {},
   "outputs": [],
   "source": [
    "odd=list(filter(lambda n:n%2==1,l1))\n",
    "        "
   ]
  },
  {
   "cell_type": "code",
   "execution_count": 41,
   "id": "35c94020",
   "metadata": {},
   "outputs": [
    {
     "data": {
      "text/plain": [
       "[65, 65]"
      ]
     },
     "execution_count": 41,
     "metadata": {},
     "output_type": "execute_result"
    }
   ],
   "source": [
    "odd"
   ]
  },
  {
   "cell_type": "code",
   "execution_count": 45,
   "id": "27ba75ed",
   "metadata": {},
   "outputs": [
    {
     "name": "stdout",
     "output_type": "stream",
     "text": [
      "Enter the details of user usage350\n",
      "2000\n"
     ]
    }
   ],
   "source": [
    "userdata=eval(input(\"Enter the details of user usage\"))\n",
    "usage=0\n",
    "if userdata<=100:\n",
    "    print(\"No Charge Its free\")\n",
    "elif userdata>100 and userdata<=200:\n",
    "    if userdata==200:\n",
    "        usage=100*5\n",
    "    else:\n",
    "        usage=(userdata-100)*5\n",
    "elif userdata>200:\n",
    "    usage=100*5+(userdata-200)*10\n",
    "print(usage)\n",
    "    "
   ]
  },
  {
   "cell_type": "code",
   "execution_count": 13,
   "id": "6e45012d",
   "metadata": {},
   "outputs": [],
   "source": [
    "list1=[2,5,6,4,5,1]\n",
    "res=0\n",
    "for i in list1:\n",
    "    res=res+i"
   ]
  },
  {
   "cell_type": "code",
   "execution_count": 4,
   "id": "cb7aed46",
   "metadata": {},
   "outputs": [
    {
     "data": {
      "text/plain": [
       "22"
      ]
     },
     "execution_count": 4,
     "metadata": {},
     "output_type": "execute_result"
    }
   ],
   "source": [
    "res"
   ]
  },
  {
   "cell_type": "code",
   "execution_count": 7,
   "id": "784592da",
   "metadata": {},
   "outputs": [],
   "source": [
    "res1=1\n",
    "for i in list1:\n",
    "    res1=res1*i"
   ]
  },
  {
   "cell_type": "code",
   "execution_count": 8,
   "id": "47137f03",
   "metadata": {},
   "outputs": [
    {
     "data": {
      "text/plain": [
       "1200"
      ]
     },
     "execution_count": 8,
     "metadata": {},
     "output_type": "execute_result"
    }
   ],
   "source": [
    "res1"
   ]
  },
  {
   "cell_type": "code",
   "execution_count": 9,
   "id": "17a1f716",
   "metadata": {},
   "outputs": [],
   "source": [
    "temp=0\n",
    "for i in list1:\n",
    "    if i>temp:\n",
    "        temp=i"
   ]
  },
  {
   "cell_type": "code",
   "execution_count": 10,
   "id": "099b0c22",
   "metadata": {},
   "outputs": [
    {
     "data": {
      "text/plain": [
       "6"
      ]
     },
     "execution_count": 10,
     "metadata": {},
     "output_type": "execute_result"
    }
   ],
   "source": [
    "temp"
   ]
  },
  {
   "cell_type": "code",
   "execution_count": 34,
   "id": "e11ed25d",
   "metadata": {},
   "outputs": [],
   "source": [
    "list1=[222,21,56]\n",
    "temp1=list1[0]\n",
    "for i in list1:\n",
    "    if i<temp1:\n",
    "        temp1=i\n",
    "    "
   ]
  },
  {
   "cell_type": "code",
   "execution_count": 35,
   "id": "a56f2575",
   "metadata": {},
   "outputs": [
    {
     "data": {
      "text/plain": [
       "21"
      ]
     },
     "execution_count": 35,
     "metadata": {},
     "output_type": "execute_result"
    }
   ],
   "source": [
    "temp1"
   ]
  },
  {
   "cell_type": "code",
   "execution_count": 1,
   "id": "6d6af9e5",
   "metadata": {},
   "outputs": [
    {
     "name": "stdout",
     "output_type": "stream",
     "text": [
      "1505\n",
      "1540\n",
      "1575\n",
      "1610\n",
      "1645\n",
      "1680\n",
      "1715\n",
      "1750\n",
      "1785\n",
      "1820\n",
      "1855\n",
      "1890\n",
      "1925\n",
      "1960\n",
      "1995\n",
      "2030\n",
      "2065\n",
      "2100\n",
      "2135\n",
      "2170\n",
      "2205\n",
      "2240\n",
      "2275\n",
      "2310\n",
      "2345\n",
      "2380\n",
      "2415\n",
      "2450\n",
      "2485\n",
      "2520\n",
      "2555\n",
      "2590\n",
      "2625\n",
      "2660\n",
      "2695\n"
     ]
    }
   ],
   "source": [
    "#Write a Python program to find those numbers which are divisible by 7 and multiples of 5, between 1500 and 2700 (both included).\n",
    "count=1500\n",
    "while count<2700:\n",
    "    if count%7==0 and count%5==0:\n",
    "        print(count)\n",
    "    count=count+1"
   ]
  },
  {
   "cell_type": "code",
   "execution_count": 6,
   "id": "88eb0baa",
   "metadata": {},
   "outputs": [
    {
     "name": "stdout",
     "output_type": "stream",
     "text": [
      "Eneter the degree56\n",
      "C or FC\n",
      "262.22222222222223\n"
     ]
    }
   ],
   "source": [
    "user=eval(input(\"Eneter the degree\"))\n",
    "user1=input(\"C or F\")\n",
    "if user1==\"C\":\n",
    "    c = (user-32/9)*5\n",
    "    print(c)\n",
    "elif user1==\"F\":\n",
    "    f=user/5-32/9\n",
    "    print(f)\n"
   ]
  },
  {
   "cell_type": "code",
   "execution_count": null,
   "id": "2d6861ff",
   "metadata": {},
   "outputs": [],
   "source": []
  }
 ],
 "metadata": {
  "kernelspec": {
   "display_name": "Python 3 (ipykernel)",
   "language": "python",
   "name": "python3"
  },
  "language_info": {
   "codemirror_mode": {
    "name": "ipython",
    "version": 3
   },
   "file_extension": ".py",
   "mimetype": "text/x-python",
   "name": "python",
   "nbconvert_exporter": "python",
   "pygments_lexer": "ipython3",
   "version": "3.11.5"
  }
 },
 "nbformat": 4,
 "nbformat_minor": 5
}
