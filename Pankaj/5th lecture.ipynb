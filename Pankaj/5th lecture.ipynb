{
 "cells": [
  {
   "cell_type": "code",
   "execution_count": 1,
   "id": "3924749d",
   "metadata": {},
   "outputs": [
    {
     "data": {
      "text/plain": [
       "'iH'"
      ]
     },
     "execution_count": 1,
     "metadata": {},
     "output_type": "execute_result"
    }
   ],
   "source": [
    "a=\"Hi\"\n",
    "a[::-1]"
   ]
  },
  {
   "cell_type": "code",
   "execution_count": 27,
   "id": "388c5f5e",
   "metadata": {},
   "outputs": [
    {
     "name": "stdout",
     "output_type": "stream",
     "text": [
      "Enter 123321\n",
      "Palindrome\n"
     ]
    }
   ],
   "source": [
    "a=input(\"Enter \")\n",
    "b=a[::-1]\n",
    "if a==b:\n",
    "    print(\"Palindrome\")\n",
    "else:\n",
    "    print(\"Not\")"
   ]
  },
  {
   "cell_type": "code",
   "execution_count": 9,
   "id": "367e8619",
   "metadata": {},
   "outputs": [
    {
     "name": "stdout",
     "output_type": "stream",
     "text": [
      "Enter the Number 30\n",
      "DIvisible by 5 and 3\n"
     ]
    }
   ],
   "source": [
    "a=int(input(\"Enter the Number \"))\n",
    "if a%5==0 and  a%3==0:\n",
    "    print(\"DIvisible by 5 and 3\")\n",
    "else:\n",
    "    print(\" Not\")"
   ]
  },
  {
   "cell_type": "code",
   "execution_count": 10,
   "id": "d46504f1",
   "metadata": {},
   "outputs": [],
   "source": [
    "a=\"Hello world,How are you ,Whatever you doing ,athlete \""
   ]
  },
  {
   "cell_type": "code",
   "execution_count": 16,
   "id": "8a29a39c",
   "metadata": {},
   "outputs": [
    {
     "data": {
      "text/plain": [
       "'hW, uoy era woH,dlrow olleH'"
      ]
     },
     "execution_count": 16,
     "metadata": {},
     "output_type": "execute_result"
    }
   ],
   "source": [
    "a[26::-1]"
   ]
  },
  {
   "cell_type": "code",
   "execution_count": 19,
   "id": "205143a6",
   "metadata": {},
   "outputs": [
    {
     "data": {
      "text/plain": [
       "' etelhta, gniod uoy'"
      ]
     },
     "execution_count": 19,
     "metadata": {},
     "output_type": "execute_result"
    }
   ],
   "source": [
    "a[-1:-20:-1]"
   ]
  },
  {
   "cell_type": "code",
   "execution_count": 21,
   "id": "b41e135a",
   "metadata": {},
   "outputs": [
    {
     "data": {
      "text/plain": [
       "'ello world,How are you ,Whatever you doing ,athlete '"
      ]
     },
     "execution_count": 21,
     "metadata": {},
     "output_type": "execute_result"
    }
   ],
   "source": [
    "a[1::]"
   ]
  },
  {
   "cell_type": "code",
   "execution_count": 22,
   "id": "41d38cae",
   "metadata": {},
   "outputs": [
    {
     "name": "stdout",
     "output_type": "stream",
     "text": [
      "0\n",
      "1\n",
      "2\n",
      "3\n",
      "4\n",
      "5\n",
      "6\n",
      "7\n",
      "8\n",
      "9\n"
     ]
    }
   ],
   "source": [
    "i=0\n",
    "while i<10:\n",
    "    print(i)\n",
    "    i=i+1"
   ]
  },
  {
   "cell_type": "code",
   "execution_count": null,
   "id": "2d11a4ca",
   "metadata": {},
   "outputs": [],
   "source": []
  },
  {
   "cell_type": "code",
   "execution_count": 25,
   "id": "9322b020",
   "metadata": {},
   "outputs": [
    {
     "data": {
      "text/plain": [
       "' you doing ,athlet'"
      ]
     },
     "execution_count": 25,
     "metadata": {},
     "output_type": "execute_result"
    }
   ],
   "source": [
    "a[-20:-2]"
   ]
  },
  {
   "cell_type": "code",
   "execution_count": null,
   "id": "164df8f0",
   "metadata": {},
   "outputs": [],
   "source": [
    "Indexing\n",
    "negtive indexing\n",
    "Slicing\n",
    "Reverse\n"
   ]
  }
 ],
 "metadata": {
  "kernelspec": {
   "display_name": "Python 3 (ipykernel)",
   "language": "python",
   "name": "python3"
  },
  "language_info": {
   "codemirror_mode": {
    "name": "ipython",
    "version": 3
   },
   "file_extension": ".py",
   "mimetype": "text/x-python",
   "name": "python",
   "nbconvert_exporter": "python",
   "pygments_lexer": "ipython3",
   "version": "3.11.5"
  }
 },
 "nbformat": 4,
 "nbformat_minor": 5
}
