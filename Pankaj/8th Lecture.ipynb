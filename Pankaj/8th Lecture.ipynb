{
 "cells": [
  {
   "cell_type": "code",
   "execution_count": 3,
   "id": "9721bfa2",
   "metadata": {},
   "outputs": [
    {
     "data": {
      "text/plain": [
       "['Hello Indi', ', Lets pl', 'y footb', 'll']"
      ]
     },
     "execution_count": 3,
     "metadata": {},
     "output_type": "execute_result"
    }
   ],
   "source": [
    "a=\"Hello India, Lets play football\"   \n",
    "a.split(\"a\")"
   ]
  },
  {
   "cell_type": "code",
   "execution_count": 4,
   "id": "1c4ddfa1",
   "metadata": {},
   "outputs": [
    {
     "data": {
      "text/plain": [
       "'H e l l o   I n d i a ,   L e t s   p l a y   f o o t b a l l'"
      ]
     },
     "execution_count": 4,
     "metadata": {},
     "output_type": "execute_result"
    }
   ],
   "source": [
    "\" \".join(a)"
   ]
  },
  {
   "cell_type": "code",
   "execution_count": 25,
   "id": "a68fc571",
   "metadata": {},
   "outputs": [
    {
     "ename": "AttributeError",
     "evalue": "'str' object has no attribute 'uppercase'",
     "output_type": "error",
     "traceback": [
      "\u001b[1;31m---------------------------------------------------------------------------\u001b[0m",
      "\u001b[1;31mAttributeError\u001b[0m                            Traceback (most recent call last)",
      "Cell \u001b[1;32mIn[25], line 2\u001b[0m\n\u001b[0;32m      1\u001b[0m a\u001b[38;5;241m=\u001b[39m\u001b[38;5;124m\"\u001b[39m\u001b[38;5;124mello \u001b[39m\u001b[38;5;124m\"\u001b[39m\n\u001b[1;32m----> 2\u001b[0m a\u001b[38;5;241m.\u001b[39muppercase()\n",
      "\u001b[1;31mAttributeError\u001b[0m: 'str' object has no attribute 'uppercase'"
     ]
    }
   ],
   "source": [
    "a=\"ello \"\n",
    "a.upper()\n"
   ]
  },
  {
   "cell_type": "code",
   "execution_count": null,
   "id": "eae6b6c4",
   "metadata": {},
   "outputs": [],
   "source": [
    "a"
   ]
  },
  {
   "cell_type": "code",
   "execution_count": 8,
   "id": "7066efe1",
   "metadata": {},
   "outputs": [
    {
     "data": {
      "text/plain": [
       "'Hello India, Lets play football                   '"
      ]
     },
     "execution_count": 8,
     "metadata": {},
     "output_type": "execute_result"
    }
   ],
   "source": [
    "a.ljust(50)"
   ]
  },
  {
   "cell_type": "code",
   "execution_count": 1,
   "id": "146a6d39",
   "metadata": {},
   "outputs": [],
   "source": [
    "#Python program to split and join a string\n",
    "a=\"Hello India, Lets play football\"  \n",
    "a=a.split(\"i\")\n",
    "a=\"\".join(a)"
   ]
  },
  {
   "cell_type": "code",
   "execution_count": 11,
   "id": "9eb7ef0e",
   "metadata": {},
   "outputs": [
    {
     "data": {
      "text/plain": [
       "'HelloIndia,Letsplayfootball'"
      ]
     },
     "execution_count": 11,
     "metadata": {},
     "output_type": "execute_result"
    }
   ],
   "source": [
    "a"
   ]
  },
  {
   "cell_type": "code",
   "execution_count": 7,
   "id": "3107661b",
   "metadata": {},
   "outputs": [
    {
     "data": {
      "text/plain": [
       "'0000000000000000000Hello India, Lets play football'"
      ]
     },
     "execution_count": 7,
     "metadata": {},
     "output_type": "execute_result"
    }
   ],
   "source": [
    "a.zfill(50)"
   ]
  },
  {
   "cell_type": "code",
   "execution_count": null,
   "id": "ba5d5ca3",
   "metadata": {},
   "outputs": [],
   "source": [
    "\n",
    " \n"
   ]
  },
  {
   "cell_type": "code",
   "execution_count": 4,
   "id": "0c79bfb3",
   "metadata": {},
   "outputs": [
    {
     "name": "stdout",
     "output_type": "stream",
     "text": [
      "Enter the name5656\n",
      "Not\n"
     ]
    }
   ],
   "source": [
    "# Python program to check whether the string is Symmetrical or Palindrome\n",
    "a=input(\"Enter the name\")\n",
    "b=a[::-1]\n",
    "if a==b:\n",
    "    print(\"Palindrome\")\n",
    "else:\n",
    "    print(\"Not\")"
   ]
  },
  {
   "cell_type": "code",
   "execution_count": 5,
   "id": "be02c6ad",
   "metadata": {},
   "outputs": [
    {
     "name": "stdout",
     "output_type": "stream",
     "text": [
      "Enter the nameHello\n",
      "olleH\n"
     ]
    }
   ],
   "source": [
    "# Reverse words in a given String in Python\n",
    "a=input(\"Enter the name\")\n",
    "print(a[::-1])"
   ]
  },
  {
   "cell_type": "code",
   "execution_count": 6,
   "id": "dc301648",
   "metadata": {},
   "outputs": [],
   "source": [
    "# Ways to remove i’th character from string in Python\n",
    "\n"
   ]
  },
  {
   "cell_type": "code",
   "execution_count": 28,
   "id": "94f2d0d1",
   "metadata": {},
   "outputs": [
    {
     "data": {
      "text/plain": [
       "'HELLO'"
      ]
     },
     "execution_count": 28,
     "metadata": {},
     "output_type": "execute_result"
    }
   ],
   "source": [
    "#Python – Uppercase Half String\n",
    "a=\"Hello World\"\n",
    "b=int(len(a)*0.5)\n",
    "a[0:b].upper()"
   ]
  },
  {
   "cell_type": "code",
   "execution_count": 21,
   "id": "ce7e81b1",
   "metadata": {},
   "outputs": [
    {
     "name": "stdout",
     "output_type": "stream",
     "text": [
      "yes\n"
     ]
    }
   ],
   "source": [
    "#Python program to check if a string has at least one letter and one number\n",
    "a=\"Hello India 123456\"\n",
    "if a.isdigit and a.isalpha():\n",
    "    print(\"NO\")\n",
    "else:\n",
    "    print(\"yes\")"
   ]
  },
  {
   "cell_type": "code",
   "execution_count": 29,
   "id": "c870e98b",
   "metadata": {},
   "outputs": [
    {
     "data": {
      "text/plain": [
       "3"
      ]
     },
     "execution_count": 29,
     "metadata": {},
     "output_type": "execute_result"
    }
   ],
   "source": [
    "\n",
    "#Python | Count the Number of matching characters in a of string\n",
    "a.count(\"l\")\n"
   ]
  },
  {
   "cell_type": "code",
   "execution_count": 23,
   "id": "c7b9f13c",
   "metadata": {},
   "outputs": [
    {
     "data": {
      "text/plain": [
       "'H    world'"
      ]
     },
     "execution_count": 23,
     "metadata": {},
     "output_type": "execute_result"
    }
   ],
   "source": [
    "#Python program for replace i-th character from a string\n",
    "a=\"Hello world\"\n",
    "a.replace(\"ello\",\"   \")"
   ]
  },
  {
   "cell_type": "code",
   "execution_count": null,
   "id": "d88d1d75",
   "metadata": {},
   "outputs": [],
   "source": []
  }
 ],
 "metadata": {
  "kernelspec": {
   "display_name": "Python 3 (ipykernel)",
   "language": "python",
   "name": "python3"
  },
  "language_info": {
   "codemirror_mode": {
    "name": "ipython",
    "version": 3
   },
   "file_extension": ".py",
   "mimetype": "text/x-python",
   "name": "python",
   "nbconvert_exporter": "python",
   "pygments_lexer": "ipython3",
   "version": "3.11.5"
  }
 },
 "nbformat": 4,
 "nbformat_minor": 5
}
