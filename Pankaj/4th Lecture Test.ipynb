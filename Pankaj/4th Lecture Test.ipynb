{
 "cells": [
  {
   "cell_type": "code",
   "execution_count": null,
   "id": "a05e2a96",
   "metadata": {},
   "outputs": [],
   "source": [
    "a=int(input(\"Enter the Number: \"))\n",
    "op=int(input(\"Enter the operation(+-*/): \"))\n",
    "b=int(input(\"Enter the number: \"))\n",
    "if op==\"+\":\n",
    "    print(a+b)\n",
    "elif op==\"-\":\n",
    "    print(a-b)\n",
    "elif op==\"*\":\n",
    "    print(a*b)\n",
    "elif op==\"/\":\n",
    "    printa/b\n",
    "else:\n",
    "    print(\"Error\")\n",
    "    "
   ]
  },
  {
   "cell_type": "code",
   "execution_count": 21,
   "id": "a409dacf",
   "metadata": {},
   "outputs": [
    {
     "name": "stdout",
     "output_type": "stream",
     "text": [
      "Enter the Number: 92\n",
      "Enter the operation(+-*/ //): *\n",
      "Enter the number: 33\n",
      "3036\n",
      "92  Even\n",
      "33  Odd\n"
     ]
    }
   ],
   "source": [
    "a=int(input(\"Enter the Number: \"))\n",
    "op=input(\"Enter the operation(+-*/ //): \")\n",
    "b=int(input(\"Enter the number: \"))\n",
    "if op==\"+\":\n",
    "    print(a+b)\n",
    "elif op==\"-\":\n",
    "    print(a-b)\n",
    "elif op==\"*\":\n",
    "    print(a*b)\n",
    "elif op==\"/\":\n",
    "    print(a/b)\n",
    "elif op==\"//\":\n",
    "    print(a//b)\n",
    "else:\n",
    "    print(\"Error\")\n",
    "if a%2==0:\n",
    "    print(a,\"is Even\")\n",
    "else:\n",
    "    print(a,\"is Odd\")\n",
    "if b%2==0:\n",
    "    print(b,\" is Even\")\n",
    "else:\n",
    "    print(b,\"is Odd\")\n",
    "    "
   ]
  },
  {
   "cell_type": "code",
   "execution_count": 8,
   "id": "e56d6b8c",
   "metadata": {},
   "outputs": [
    {
     "name": "stdout",
     "output_type": "stream",
     "text": [
      "Enter the Number: 9\n",
      "Odd\n"
     ]
    }
   ],
   "source": [
    "a=int(input(\"Enter the Number: \"))\n",
    "if a%2==0:\n",
    "    print(\"is Even\")\n",
    "else:\n",
    "    print(\"is Odd\")"
   ]
  },
  {
   "cell_type": "code",
   "execution_count": 18,
   "id": "d7896ae3",
   "metadata": {},
   "outputs": [
    {
     "name": "stdout",
     "output_type": "stream",
     "text": [
      "Enter the Number: 5\n",
      "POSITIVE\n"
     ]
    }
   ],
   "source": [
    "a=int(input(\"Enter the Number: \"))\n",
    "if a==\"0\":\n",
    "    print(\"Zero\")\n",
    "elif a<0:\n",
    "    print(a,\" is Negative\")\n",
    "elif a>0:\n",
    "    print(a\" is POSITIVE\")\n",
    "else:\n",
    "    print(\"I DONT KNOW\")\n",
    "    \n",
    "\n",
    " "
   ]
  },
  {
   "cell_type": "raw",
   "id": "f2fab680",
   "metadata": {},
   "source": [
    "Q4 \"HI\" can not be converted in int or float Because int and float deals with only number and in string we can write anything So letter cannot be converted."
   ]
  },
  {
   "cell_type": "code",
   "execution_count": 22,
   "id": "d26718ef",
   "metadata": {},
   "outputs": [
    {
     "ename": "ValueError",
     "evalue": "could not convert string to float: 'Hi'",
     "output_type": "error",
     "traceback": [
      "\u001b[1;31m---------------------------------------------------------------------------\u001b[0m",
      "\u001b[1;31mValueError\u001b[0m                                Traceback (most recent call last)",
      "Cell \u001b[1;32mIn[22], line 2\u001b[0m\n\u001b[0;32m      1\u001b[0m a\u001b[38;5;241m=\u001b[39m\u001b[38;5;124m\"\u001b[39m\u001b[38;5;124mHi\u001b[39m\u001b[38;5;124m\"\u001b[39m\n\u001b[1;32m----> 2\u001b[0m a\u001b[38;5;241m=\u001b[39m\u001b[38;5;28mfloat\u001b[39m(a)\n\u001b[0;32m      3\u001b[0m a\u001b[38;5;241m=\u001b[39m\u001b[38;5;28mint\u001b[39m(b)\n",
      "\u001b[1;31mValueError\u001b[0m: could not convert string to float: 'Hi'"
     ]
    }
   ],
   "source": [
    "a=\"Hi\"\n",
    "a=float(a)\n",
    "a=int(b)"
   ]
  },
  {
   "cell_type": "code",
   "execution_count": 36,
   "id": "4b2be9c0",
   "metadata": {},
   "outputs": [
    {
     "data": {
      "text/plain": [
       "'1'"
      ]
     },
     "execution_count": 36,
     "metadata": {},
     "output_type": "execute_result"
    }
   ],
   "source": [
    "a=\"Hello world\"\n",
    "a[0]\n"
   ]
  },
  {
   "cell_type": "code",
   "execution_count": 31,
   "id": "2d73945b",
   "metadata": {},
   "outputs": [
    {
     "ename": "TypeError",
     "evalue": "argument of type 'int' is not iterable",
     "output_type": "error",
     "traceback": [
      "\u001b[1;31m---------------------------------------------------------------------------\u001b[0m",
      "\u001b[1;31mTypeError\u001b[0m                                 Traceback (most recent call last)",
      "Cell \u001b[1;32mIn[31], line 2\u001b[0m\n\u001b[0;32m      1\u001b[0m a\u001b[38;5;241m=\u001b[39m\u001b[38;5;241m10\u001b[39m\n\u001b[1;32m----> 2\u001b[0m \u001b[38;5;241m1\u001b[39m \u001b[38;5;129;01min\u001b[39;00m a\n",
      "\u001b[1;31mTypeError\u001b[0m: argument of type 'int' is not iterable"
     ]
    }
   ],
   "source": [
    "a=10\n",
    "1 in a"
   ]
  },
  {
   "cell_type": "code",
   "execution_count": 40,
   "id": "afbef37f",
   "metadata": {},
   "outputs": [
    {
     "name": "stdout",
     "output_type": "stream",
     "text": [
      "w l d\n"
     ]
    }
   ],
   "source": [
    "a=\"Hello world\"\n",
    "print(a[6],a[2],a[10])"
   ]
  },
  {
   "cell_type": "code",
   "execution_count": 41,
   "id": "d6723eed",
   "metadata": {},
   "outputs": [
    {
     "data": {
      "text/plain": [
       "'d'"
      ]
     },
     "execution_count": 41,
     "metadata": {},
     "output_type": "execute_result"
    }
   ],
   "source": [
    "a[10]"
   ]
  },
  {
   "cell_type": "code",
   "execution_count": 42,
   "id": "fa1e8705",
   "metadata": {},
   "outputs": [
    {
     "data": {
      "text/plain": [
       "'l'"
      ]
     },
     "execution_count": 42,
     "metadata": {},
     "output_type": "execute_result"
    }
   ],
   "source": [
    "a[2]"
   ]
  },
  {
   "cell_type": "code",
   "execution_count": 62,
   "id": "8cb2eb60",
   "metadata": {},
   "outputs": [
    {
     "data": {
      "text/plain": [
       "'world'"
      ]
     },
     "execution_count": 62,
     "metadata": {},
     "output_type": "execute_result"
    }
   ],
   "source": [
    "a=\"Hello world,How are you ,Whatever you doing ,athlete \"\n",
    "a[6:11]"
   ]
  },
  {
   "cell_type": "code",
   "execution_count": 75,
   "id": "86b0882e",
   "metadata": {},
   "outputs": [
    {
     "name": "stdout",
     "output_type": "stream",
     "text": [
      "one\n"
     ]
    }
   ],
   "source": [
    "b=\"Free one Month Learning sub\"\n",
    "print(b[5:8:1])"
   ]
  },
  {
   "cell_type": "code",
   "execution_count": 73,
   "id": "80bc4f9b",
   "metadata": {},
   "outputs": [
    {
     "data": {
      "text/plain": [
       "'Month'"
      ]
     },
     "execution_count": 73,
     "metadata": {},
     "output_type": "execute_result"
    }
   ],
   "source": [
    "b[9:14:1]"
   ]
  },
  {
   "cell_type": "code",
   "execution_count": 74,
   "id": "5793fe4a",
   "metadata": {},
   "outputs": [
    {
     "data": {
      "text/plain": [
       "'ing'"
      ]
     },
     "execution_count": 74,
     "metadata": {},
     "output_type": "execute_result"
    }
   ],
   "source": [
    "b[20:23:1]"
   ]
  },
  {
   "cell_type": "code",
   "execution_count": 70,
   "id": "11d7416d",
   "metadata": {},
   "outputs": [
    {
     "data": {
      "text/plain": [
       "'oe'"
      ]
     },
     "execution_count": 70,
     "metadata": {},
     "output_type": "execute_result"
    }
   ],
   "source": [
    "b[5:8:2]"
   ]
  },
  {
   "cell_type": "code",
   "execution_count": 71,
   "id": "6fb966e9",
   "metadata": {},
   "outputs": [
    {
     "data": {
      "text/plain": [
       "'Mnh'"
      ]
     },
     "execution_count": 71,
     "metadata": {},
     "output_type": "execute_result"
    }
   ],
   "source": [
    "b[9:14:2]"
   ]
  },
  {
   "cell_type": "code",
   "execution_count": 72,
   "id": "b14cc918",
   "metadata": {},
   "outputs": [
    {
     "data": {
      "text/plain": [
       "'ig'"
      ]
     },
     "execution_count": 72,
     "metadata": {},
     "output_type": "execute_result"
    }
   ],
   "source": [
    "b[20:23:2]"
   ]
  },
  {
   "cell_type": "code",
   "execution_count": 77,
   "id": "400f0904",
   "metadata": {},
   "outputs": [
    {
     "data": {
      "text/plain": [
       "'FenMtLrns'"
      ]
     },
     "execution_count": 77,
     "metadata": {},
     "output_type": "execute_result"
    }
   ],
   "source": [
    "b[::3]"
   ]
  },
  {
   "cell_type": "code",
   "execution_count": 78,
   "id": "41e048e5",
   "metadata": {},
   "outputs": [
    {
     "data": {
      "text/plain": [
       "26"
      ]
     },
     "execution_count": 78,
     "metadata": {},
     "output_type": "execute_result"
    }
   ],
   "source": [
    "a.index(\"h\")"
   ]
  },
  {
   "cell_type": "code",
   "execution_count": 79,
   "id": "91ff2718",
   "metadata": {},
   "outputs": [
    {
     "data": {
      "text/plain": [
       "'bus gninraeL htnoM eno eerF'"
      ]
     },
     "execution_count": 79,
     "metadata": {},
     "output_type": "execute_result"
    }
   ],
   "source": [
    "b[::-1]"
   ]
  },
  {
   "cell_type": "code",
   "execution_count": null,
   "id": "0e93af82",
   "metadata": {},
   "outputs": [],
   "source": []
  }
 ],
 "metadata": {
  "kernelspec": {
   "display_name": "Python 3 (ipykernel)",
   "language": "python",
   "name": "python3"
  },
  "language_info": {
   "codemirror_mode": {
    "name": "ipython",
    "version": 3
   },
   "file_extension": ".py",
   "mimetype": "text/x-python",
   "name": "python",
   "nbconvert_exporter": "python",
   "pygments_lexer": "ipython3",
   "version": "3.11.5"
  }
 },
 "nbformat": 4,
 "nbformat_minor": 5
}
