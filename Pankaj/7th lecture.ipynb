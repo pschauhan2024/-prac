{
 "cells": [
  {
   "cell_type": "code",
   "execution_count": 2,
   "id": "cb8f03b8",
   "metadata": {},
   "outputs": [
    {
     "data": {
      "text/plain": [
       "'k s k s k s k k'"
      ]
     },
     "execution_count": 2,
     "metadata": {},
     "output_type": "execute_result"
    }
   ],
   "source": [
    "a=\"kksksksk\"\n",
    "\" \".join(reversed(a))"
   ]
  },
  {
   "cell_type": "code",
   "execution_count": 3,
   "id": "2ae72f61",
   "metadata": {},
   "outputs": [],
   "source": [
    "import pandas as pd"
   ]
  },
  {
   "cell_type": "code",
   "execution_count": 4,
   "id": "25f64cff",
   "metadata": {},
   "outputs": [
    {
     "name": "stdout",
     "output_type": "stream",
     "text": [
      "hhj\n"
     ]
    }
   ],
   "source": [
    "a=\"56k1\"\n",
    "b=a.isdigit()\n",
    "if b==False:\n",
    "    print(\"hhj\")"
   ]
  },
  {
   "cell_type": "code",
   "execution_count": 5,
   "id": "ba381ad7",
   "metadata": {},
   "outputs": [],
   "source": [
    "del a"
   ]
  },
  {
   "cell_type": "code",
   "execution_count": 6,
   "id": "58684d5a",
   "metadata": {},
   "outputs": [
    {
     "ename": "NameError",
     "evalue": "name 'a' is not defined",
     "output_type": "error",
     "traceback": [
      "\u001b[1;31m---------------------------------------------------------------------------\u001b[0m",
      "\u001b[1;31mNameError\u001b[0m                                 Traceback (most recent call last)",
      "Cell \u001b[1;32mIn[6], line 1\u001b[0m\n\u001b[1;32m----> 1\u001b[0m a\n",
      "\u001b[1;31mNameError\u001b[0m: name 'a' is not defined"
     ]
    }
   ],
   "source": [
    "a"
   ]
  },
  {
   "cell_type": "code",
   "execution_count": null,
   "id": "ee79acf3",
   "metadata": {},
   "outputs": [],
   "source": [
    "if 10>10:\n",
    "    print(\"True\")\n",
    "else:\n",
    "    print(\"False\")"
   ]
  },
  {
   "cell_type": "code",
   "execution_count": null,
   "id": "6af3e6e7",
   "metadata": {},
   "outputs": [],
   "source": [
    "a=\"The the data data rag\"\n",
    "\"e\" in a"
   ]
  },
  {
   "cell_type": "code",
   "execution_count": null,
   "id": "f9de5e93",
   "metadata": {},
   "outputs": [],
   "source": [
    "\"hj\" is not \"jk\""
   ]
  },
  {
   "cell_type": "code",
   "execution_count": null,
   "id": "60757229",
   "metadata": {},
   "outputs": [],
   "source": [
    "if a.endswith(\"g\"):\n",
    "    print(\"fkjg.lhlkbkhnbjhkgbjh \")"
   ]
  },
  {
   "cell_type": "code",
   "execution_count": null,
   "id": "a347dffe",
   "metadata": {},
   "outputs": [],
   "source": [
    "a=\"apple world\"\n",
    "if \"apple\" in a:\n",
    "    print(\"present\")"
   ]
  },
  {
   "cell_type": "code",
   "execution_count": null,
   "id": "b444963b",
   "metadata": {},
   "outputs": [],
   "source": [
    "a=\"Helcowk\"\n",
    "b=len(a)\n",
    "c=int(b/2)\n",
    "print(a[c])"
   ]
  },
  {
   "cell_type": "code",
   "execution_count": null,
   "id": "2e50df7a",
   "metadata": {},
   "outputs": [],
   "source": [
    "print(5*10)"
   ]
  },
  {
   "cell_type": "code",
   "execution_count": 11,
   "id": "e8c6e84a",
   "metadata": {},
   "outputs": [
    {
     "data": {
      "text/plain": [
       "-1"
      ]
     },
     "execution_count": 11,
     "metadata": {},
     "output_type": "execute_result"
    }
   ],
   "source": [
    "a=\"Hello world\"\n",
    "a.find(\"w\",0,5)"
   ]
  },
  {
   "cell_type": "code",
   "execution_count": 12,
   "id": "799ec310",
   "metadata": {},
   "outputs": [
    {
     "data": {
      "text/plain": [
       "['Hello', 'world']"
      ]
     },
     "execution_count": 12,
     "metadata": {},
     "output_type": "execute_result"
    }
   ],
   "source": [
    "a.split()"
   ]
  },
  {
   "cell_type": "code",
   "execution_count": 13,
   "id": "dca48a86",
   "metadata": {},
   "outputs": [
    {
     "data": {
      "text/plain": [
       "'H,e,l,l,o, ,w,o,r,l,d'"
      ]
     },
     "execution_count": 13,
     "metadata": {},
     "output_type": "execute_result"
    }
   ],
   "source": [
    "a = ','.join(a)\n",
    "a"
   ]
  },
  {
   "cell_type": "code",
   "execution_count": 14,
   "id": "3b400f45",
   "metadata": {},
   "outputs": [
    {
     "data": {
      "text/plain": [
       "'H,e,l,l,o, ,w,o,r,l,d'"
      ]
     },
     "execution_count": 14,
     "metadata": {},
     "output_type": "execute_result"
    }
   ],
   "source": [
    "a"
   ]
  },
  {
   "cell_type": "code",
   "execution_count": 17,
   "id": "2e36e158",
   "metadata": {},
   "outputs": [
    {
     "name": "stdout",
     "output_type": "stream",
     "text": [
      "['Hello', 'WOrld']\n",
      "Hello WOrld\n"
     ]
    }
   ],
   "source": [
    "a=\"Hello WOrld\"\n",
    "a=a.split()\n",
    "print(a)\n",
    "b=\" \".join(a)\n",
    "print(b)\n"
   ]
  },
  {
   "cell_type": "code",
   "execution_count": 22,
   "id": "4a80b4d6",
   "metadata": {},
   "outputs": [
    {
     "name": "stdout",
     "output_type": "stream",
     "text": [
      "['Hello', 'World']\n"
     ]
    },
    {
     "data": {
      "text/plain": [
       "'Hello WOrld'"
      ]
     },
     "execution_count": 22,
     "metadata": {},
     "output_type": "execute_result"
    }
   ],
   "source": [
    "b=\"Hello World\"\n",
    "b=b.split()\n",
    "print(b)\n",
    "\" \".join(a)"
   ]
  },
  {
   "cell_type": "code",
   "execution_count": 23,
   "id": "ad15d203",
   "metadata": {},
   "outputs": [
    {
     "name": "stdout",
     "output_type": "stream",
     "text": [
      "Hello World  \n",
      "  Hello World\n",
      "WOrld\n",
      "Hello\n"
     ]
    }
   ],
   "source": [
    "b=\"  Hello World  \"\n",
    "print(b.lstrip())\n",
    "print(b.rstrip())\n",
    "print(max(a))\n",
    "print(min(a))\n"
   ]
  },
  {
   "cell_type": "code",
   "execution_count": 25,
   "id": "b4d6dcdf",
   "metadata": {},
   "outputs": [
    {
     "data": {
      "text/plain": [
       "'  Hello World         '"
      ]
     },
     "execution_count": 25,
     "metadata": {},
     "output_type": "execute_result"
    }
   ],
   "source": [
    "b.ljust(22)"
   ]
  },
  {
   "cell_type": "code",
   "execution_count": 26,
   "id": "17773099",
   "metadata": {},
   "outputs": [
    {
     "data": {
      "text/plain": [
       "'                                           Hello World  '"
      ]
     },
     "execution_count": 26,
     "metadata": {},
     "output_type": "execute_result"
    }
   ],
   "source": [
    "b.rjust(56)"
   ]
  },
  {
   "cell_type": "code",
   "execution_count": 29,
   "id": "f70b42f7",
   "metadata": {},
   "outputs": [
    {
     "data": {
      "text/plain": [
       "12"
      ]
     },
     "execution_count": 29,
     "metadata": {},
     "output_type": "execute_result"
    }
   ],
   "source": [
    "b.rindex(\"d\",4,)"
   ]
  },
  {
   "cell_type": "code",
   "execution_count": 1,
   "id": "cac1e4df",
   "metadata": {},
   "outputs": [
    {
     "data": {
      "text/plain": [
       "['Kek', 'djdk', 'skks']"
      ]
     },
     "execution_count": 1,
     "metadata": {},
     "output_type": "execute_result"
    }
   ],
   "source": [
    "k=\"\"\"Kek\n",
    "djdk\n",
    "skks\"\"\"\n",
    "k=k.splitlines()\n",
    "k"
   ]
  },
  {
   "cell_type": "code",
   "execution_count": 31,
   "id": "e296cf92",
   "metadata": {},
   "outputs": [
    {
     "data": {
      "text/plain": [
       "['Kek', 'djdk', 'skks']"
      ]
     },
     "execution_count": 31,
     "metadata": {},
     "output_type": "execute_result"
    }
   ],
   "source": [
    "k"
   ]
  },
  {
   "cell_type": "code",
   "execution_count": 33,
   "id": "8cf70b46",
   "metadata": {},
   "outputs": [],
   "source": [
    "k=\" \".join(k)"
   ]
  },
  {
   "cell_type": "code",
   "execution_count": 34,
   "id": "42ed8d02",
   "metadata": {},
   "outputs": [
    {
     "data": {
      "text/plain": [
       "'Kek djdk skks'"
      ]
     },
     "execution_count": 34,
     "metadata": {},
     "output_type": "execute_result"
    }
   ],
   "source": [
    "k"
   ]
  },
  {
   "cell_type": "code",
   "execution_count": null,
   "id": "9916f2c4",
   "metadata": {},
   "outputs": [],
   "source": [
    "a=\"56\"\n",
    "b=[]\n",
    "b"
   ]
  }
 ],
 "metadata": {
  "kernelspec": {
   "display_name": "Python 3 (ipykernel)",
   "language": "python",
   "name": "python3"
  },
  "language_info": {
   "codemirror_mode": {
    "name": "ipython",
    "version": 3
   },
   "file_extension": ".py",
   "mimetype": "text/x-python",
   "name": "python",
   "nbconvert_exporter": "python",
   "pygments_lexer": "ipython3",
   "version": "3.11.5"
  }
 },
 "nbformat": 4,
 "nbformat_minor": 5
}
