{
 "cells": [
  {
   "cell_type": "code",
   "execution_count": null,
   "id": "5add5036",
   "metadata": {},
   "outputs": [],
   "source": [
    "a=\"James\"\n",
    "a[::2]"
   ]
  },
  {
   "cell_type": "code",
   "execution_count": null,
   "id": "eb50b8c4",
   "metadata": {},
   "outputs": [],
   "source": [
    "a=\"Jameu\"\n",
    "b=int(len(a)/2)\n",
    "a[::b]\n"
   ]
  },
  {
   "cell_type": "code",
   "execution_count": null,
   "id": "f595679e",
   "metadata": {},
   "outputs": [],
   "source": [
    "#Write a program to create a new string made of the middle three characters of an input string.\n",
    "a=input(\"enter  \")\n",
    "b=int(len(a)/2)\n",
    "d=b-1\n",
    "e=b+2\n",
    "a[d:e]"
   ]
  },
  {
   "cell_type": "code",
   "execution_count": 58,
   "id": "3f544e17",
   "metadata": {},
   "outputs": [
    {
     "data": {
      "text/plain": [
       "'HelOOOlo0'"
      ]
     },
     "execution_count": 58,
     "metadata": {},
     "output_type": "execute_result"
    }
   ],
   "source": [
    "#Append new string in the middle of a given string\n",
    "str1=\"Hello0\"\n",
    "str2=\"OOO\"\n",
    "b=int(len(a)/2)\n",
    "res=\"\"\n",
    "res=res+str1[0:b+2:]\n",
    "res=res+str2\n",
    "res=res+str1[b+2:]\n",
    "res"
   ]
  },
  {
   "cell_type": "code",
   "execution_count": 7,
   "id": "f3943fbb",
   "metadata": {},
   "outputs": [
    {
     "data": {
      "text/plain": [
       "'AJrpan'"
      ]
     },
     "execution_count": 7,
     "metadata": {},
     "output_type": "execute_result"
    }
   ],
   "source": [
    "#Create a new string made of the first, middle, and last characters of each input string\n",
    "#Given two strings, s1 and s2, write a program to return a new string made of s1 and s2’s first, middle, and last characters.\n",
    "\n",
    "s1=\"America\"\n",
    "s2=\"Japan\"\n",
    "a=int(len(s1)/2)\n",
    "b=int(len(s2)/2)\n",
    "s1=s1[::a]\n",
    "s2=s2[::b]\n",
    "#res=s1[0]+s2[0]+s1[1]+s2[1]+s1[2]+s2[2]\n",
    "res=\"\"\n",
    "for i in range(0,len(s1)):\n",
    "    res=res+s1[i]+s2[i]\n",
    "res"
   ]
  },
  {
   "cell_type": "code",
   "execution_count": 14,
   "id": "15f9bba5",
   "metadata": {},
   "outputs": [
    {
     "name": "stdout",
     "output_type": "stream",
     "text": [
      "Enter  jhgdgkusgjdfbsjFJGHGK465546123345';l\n"
     ]
    },
    {
     "data": {
      "text/plain": [
       "'jhgdgkusgjdfbsjlFJGHGK'"
      ]
     },
     "execution_count": 14,
     "metadata": {},
     "output_type": "execute_result"
    }
   ],
   "source": [
    "#Arrange string characters such that lowercase letters should come first\n",
    "#Given string contains a combination of the lower and upper case letters. Write a program to arrange the characters of a string so that all lowercase letters should come first.\n",
    "\n",
    "\n",
    "a=input(\"Enter  \")\n",
    "res1=\"\"\n",
    "res2=\"\"\n",
    "for i in range(len(a)):\n",
    "    if a[i].islower():\n",
    "        res1=res1+a[i]\n",
    "    if a[i].isupper():\n",
    "        res2=res2+a[i]\n",
    "res=res1+res2\n",
    "res\n",
    "        \n"
   ]
  },
  {
   "cell_type": "code",
   "execution_count": 18,
   "id": "7cbef38a",
   "metadata": {},
   "outputs": [
    {
     "name": "stdout",
     "output_type": "stream",
     "text": [
      "Enter  5654\n",
      "letter :  0  Digit :  4  Symbols :  0\n"
     ]
    }
   ],
   "source": [
    "#Count all letters, digits, and special symbols from a given string\n",
    "\n",
    "a=a=input(\"Enter  \")\n",
    "res3=0\n",
    "res1=0\n",
    "res2=0\n",
    "for i in range(len(a)):\n",
    "    if a[i].isalpha():\n",
    "        res1=res1+1\n",
    "    elif a[i].isdigit():\n",
    "        res2=res2+1\n",
    "    else:\n",
    "        res3=res3+1\n",
    "print(\"letter : \",res1,\" Digit : \",res2,\" Symbols : \",res3)\n",
    "        \n"
   ]
  },
  {
   "cell_type": "code",
   "execution_count": 38,
   "id": "6cfaa341",
   "metadata": {},
   "outputs": [
    {
     "name": "stdout",
     "output_type": "stream",
     "text": [
      "AxByCz\n"
     ]
    }
   ],
   "source": [
    "#Create a mixed String using the following rules\n",
    "#Given two strings, s1 and s2. Write a program to create a new string s3 made of the first char of s1, then the last char of s2, Next, the second char of s1 and second last char of s2, and so on. Any leftover chars go at the end of the result.\n",
    "\n",
    "a=\"ABC\"\n",
    "b=\"xyzhh\"\n",
    "s3=\" \"\n",
    "s1_length = len(s1)\n",
    "s2_length = len(s2)\n",
    "length=s1_length\n",
    "result=\"\"\n",
    "if s1_length>s2_length:\n",
    "    print(\"\")\n",
    "else:\n",
    "    length=s2_length\n",
    "for i in range(length):\n",
    "    if i < s1_length:\n",
    "        result = result + a[i]\n",
    "    if i < s2_length:\n",
    "        result = result + b[i]\n",
    "print(result)\n",
    "    \n"
   ]
  },
  {
   "cell_type": "code",
   "execution_count": 68,
   "id": "464cf0d0",
   "metadata": {},
   "outputs": [
    {
     "name": "stdout",
     "output_type": "stream",
     "text": [
      "String is balanced\n"
     ]
    }
   ],
   "source": [
    "#Write a program to check if two strings are balanced. For example, strings s1 and s2 are balanced if all the characters in the s1 are present in s2. The character’s position doesn’t matter.\n",
    "\n",
    "a=\"yk\"\n",
    "b=\"ynkhhj\"\n",
    "for i in range(len(a)):\n",
    "    if b.find(a[i])!=-1:\n",
    "        continue\n",
    "    else:\n",
    "        print(\"String is Unbalanced\")\n",
    "        break\n",
    "    \n",
    "print(\"String is balanced\")\n",
    "\n"
   ]
  },
  {
   "cell_type": "code",
   "execution_count": null,
   "id": "f777eef5",
   "metadata": {},
   "outputs": [],
   "source": []
  },
  {
   "cell_type": "code",
   "execution_count": null,
   "id": "5b67f7b4",
   "metadata": {},
   "outputs": [],
   "source": []
  }
 ],
 "metadata": {
  "kernelspec": {
   "display_name": "Python 3 (ipykernel)",
   "language": "python",
   "name": "python3"
  },
  "language_info": {
   "codemirror_mode": {
    "name": "ipython",
    "version": 3
   },
   "file_extension": ".py",
   "mimetype": "text/x-python",
   "name": "python",
   "nbconvert_exporter": "python",
   "pygments_lexer": "ipython3",
   "version": "3.11.5"
  }
 },
 "nbformat": 4,
 "nbformat_minor": 5
}
