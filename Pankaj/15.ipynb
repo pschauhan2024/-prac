{
 "cells": [
  {
   "cell_type": "code",
   "execution_count": 1,
   "id": "5b4077cf",
   "metadata": {},
   "outputs": [],
   "source": [
    "def add():\n",
    "    a=10\n",
    "    b=20\n",
    "    print(a+b)"
   ]
  },
  {
   "cell_type": "code",
   "execution_count": 2,
   "id": "5f6c2a44",
   "metadata": {},
   "outputs": [
    {
     "name": "stdout",
     "output_type": "stream",
     "text": [
      "30\n"
     ]
    }
   ],
   "source": [
    "add()"
   ]
  },
  {
   "cell_type": "code",
   "execution_count": 13,
   "id": "964a0274",
   "metadata": {},
   "outputs": [],
   "source": [
    "def add1():\n",
    "    a=0\n",
    "    while a<10:\n",
    "        print(\"Number:\" ,a,end=\" \")\n",
    "        print(\"Square :\",pow(a,2))\n",
    "        a+=1"
   ]
  },
  {
   "cell_type": "code",
   "execution_count": 14,
   "id": "78dee8b0",
   "metadata": {},
   "outputs": [
    {
     "name": "stdout",
     "output_type": "stream",
     "text": [
      "Number: 0 Square 0\n",
      "Number: 1 Square 1\n",
      "Number: 2 Square 4\n",
      "Number: 3 Square 9\n",
      "Number: 4 Square 16\n",
      "Number: 5 Square 25\n",
      "Number: 6 Square 36\n",
      "Number: 7 Square 49\n",
      "Number: 8 Square 64\n",
      "Number: 9 Square 81\n"
     ]
    }
   ],
   "source": [
    "add1()"
   ]
  },
  {
   "cell_type": "code",
   "execution_count": 13,
   "id": "9cdde520",
   "metadata": {},
   "outputs": [
    {
     "name": "stdout",
     "output_type": "stream",
     "text": [
      "* \n",
      " * \n",
      " * \n",
      " * \n",
      " * \n",
      " * \n",
      " * \n",
      " * \n",
      " * \n",
      " * \n",
      " "
     ]
    }
   ],
   "source": [
    "a=0\n",
    "while a<10:\n",
    "    print(\"*\",\"\\n\",end=\" \")\n",
    "    a+=1"
   ]
  },
  {
   "cell_type": "code",
   "execution_count": 7,
   "id": "7fc850fd",
   "metadata": {},
   "outputs": [
    {
     "name": "stdout",
     "output_type": "stream",
     "text": [
      " \n",
      "^  \n",
      " \n",
      " \n",
      " \n",
      "\n",
      "\n",
      "\n",
      "\n",
      "\n",
      "\n",
      "\n",
      "\n",
      "\n",
      "\n",
      "\n",
      "\n",
      "\n",
      "\n",
      "\n",
      "\n",
      "\n",
      "\n",
      "\n",
      "\n"
     ]
    }
   ],
   "source": [
    "a=0\n",
    "b=0\n",
    "c=10\n",
    "d=0\n",
    "while a<c:\n",
    "    b=0\n",
    "    while d<(c-1)/2:\n",
    "        print(\" \")\n",
    "        d+=1\n",
    "        while b<=a:\n",
    "            print(\"^\",end=\" \")\n",
    "            b+=1\n",
    "    \n",
    "    print(\"\\n\")\n",
    "    a+=1"
   ]
  },
  {
   "cell_type": "code",
   "execution_count": 2,
   "id": "d5aeb0a9",
   "metadata": {},
   "outputs": [],
   "source": [
    "def add(a,b):\n",
    "    print(a+b)"
   ]
  },
  {
   "cell_type": "code",
   "execution_count": 3,
   "id": "86469249",
   "metadata": {},
   "outputs": [
    {
     "name": "stdout",
     "output_type": "stream",
     "text": [
      "35\n"
     ]
    }
   ],
   "source": [
    "add(15,20)"
   ]
  },
  {
   "cell_type": "code",
   "execution_count": 4,
   "id": "1d45e0f4",
   "metadata": {},
   "outputs": [],
   "source": [
    "def add1(b):\n",
    "    a=0\n",
    "    while a<b:\n",
    "        print(\"Number:\" ,a,end=\" \")\n",
    "        print(\"Square :\",pow(a,2))\n",
    "        a+=1"
   ]
  },
  {
   "cell_type": "code",
   "execution_count": 6,
   "id": "436e6ca1",
   "metadata": {},
   "outputs": [
    {
     "name": "stdout",
     "output_type": "stream",
     "text": [
      "Number: 0 Square : 0\n",
      "Number: 1 Square : 1\n",
      "Number: 2 Square : 4\n",
      "Number: 3 Square : 9\n",
      "Number: 4 Square : 16\n",
      "Number: 5 Square : 25\n",
      "Number: 6 Square : 36\n",
      "Number: 7 Square : 49\n",
      "Number: 8 Square : 64\n",
      "Number: 9 Square : 81\n",
      "Number: 10 Square : 100\n",
      "Number: 11 Square : 121\n",
      "Number: 12 Square : 144\n",
      "Number: 13 Square : 169\n",
      "Number: 14 Square : 196\n",
      "Number: 15 Square : 225\n",
      "Number: 16 Square : 256\n",
      "Number: 17 Square : 289\n",
      "Number: 18 Square : 324\n",
      "Number: 19 Square : 361\n"
     ]
    }
   ],
   "source": [
    "add1(20)"
   ]
  },
  {
   "cell_type": "code",
   "execution_count": 1,
   "id": "eefb74b9",
   "metadata": {},
   "outputs": [],
   "source": [
    "def addd(a,b):\n",
    "    print(a,b)"
   ]
  },
  {
   "cell_type": "code",
   "execution_count": 4,
   "id": "2ade34eb",
   "metadata": {},
   "outputs": [
    {
     "name": "stdout",
     "output_type": "stream",
     "text": [
      "25 15\n"
     ]
    }
   ],
   "source": [
    "addd(b=15,a=25)"
   ]
  },
  {
   "cell_type": "code",
   "execution_count": 10,
   "id": "1e8e5d86",
   "metadata": {},
   "outputs": [],
   "source": [
    "def myfile():\n",
    "    b=[]\n",
    "    c=0\n",
    "    for i in range(100):\n",
    "        c=0\n",
    "        a=str(i)\n",
    "    #rint(type(a))\n",
    "        if \"3\" in a:\n",
    "            print(a)\n",
    "            b.append(a)\n",
    "    print(b)"
   ]
  },
  {
   "cell_type": "code",
   "execution_count": 11,
   "id": "7bee80cc",
   "metadata": {},
   "outputs": [
    {
     "name": "stdout",
     "output_type": "stream",
     "text": [
      "3\n",
      "13\n",
      "23\n",
      "30\n",
      "31\n",
      "32\n",
      "33\n",
      "34\n",
      "35\n",
      "36\n",
      "37\n",
      "38\n",
      "39\n",
      "43\n",
      "53\n",
      "63\n",
      "73\n",
      "83\n",
      "93\n",
      "['3', '13', '23', '30', '31', '32', '33', '34', '35', '36', '37', '38', '39', '43', '53', '63', '73', '83', '93']\n"
     ]
    }
   ],
   "source": [
    "myfile()"
   ]
  },
  {
   "cell_type": "code",
   "execution_count": 12,
   "id": "a8fc63e2",
   "metadata": {},
   "outputs": [],
   "source": [
    "def _50(*args):\n",
    "    for  i in args:\n",
    "        print(i)"
   ]
  },
  {
   "cell_type": "code",
   "execution_count": 15,
   "id": "3adc0f6b",
   "metadata": {},
   "outputs": [
    {
     "name": "stdout",
     "output_type": "stream",
     "text": [
      "10\n",
      "20\n",
      "50\n",
      "65\n",
      "23\n",
      "25\n"
     ]
    }
   ],
   "source": [
    "_50(10,20,50,65,23,25)"
   ]
  },
  {
   "cell_type": "code",
   "execution_count": null,
   "id": "fcddebff",
   "metadata": {},
   "outputs": [],
   "source": [
    "def _56(**kwargs):\n",
    "    for i,v in kwargs.items():\n",
    "        print(i,v)"
   ]
  },
  {
   "cell_type": "code",
   "execution_count": null,
   "id": "c0884f62",
   "metadata": {},
   "outputs": [],
   "source": [
    "for i in range(5):\n",
    "    a=input()\n",
    "    b=input()\n",
    "    _56(a=b)"
   ]
  },
  {
   "cell_type": "code",
   "execution_count": 5,
   "id": "10f36837",
   "metadata": {},
   "outputs": [],
   "source": [
    "b=20\n",
    "def _100(a):\n",
    "    \n",
    "    c=a+b\n",
    "    print(c)\n",
    "    return(c*c)"
   ]
  },
  {
   "cell_type": "code",
   "execution_count": 6,
   "id": "61982672",
   "metadata": {},
   "outputs": [
    {
     "name": "stdout",
     "output_type": "stream",
     "text": [
      "30\n"
     ]
    },
    {
     "data": {
      "text/plain": [
       "900"
      ]
     },
     "execution_count": 6,
     "metadata": {},
     "output_type": "execute_result"
    }
   ],
   "source": [
    "_100(10)"
   ]
  },
  {
   "cell_type": "code",
   "execution_count": 2,
   "id": "f348f138",
   "metadata": {},
   "outputs": [
    {
     "data": {
      "text/plain": [
       "True"
      ]
     },
     "execution_count": 2,
     "metadata": {},
     "output_type": "execute_result"
    }
   ],
   "source": [
    "a=\"5\"\n",
    "any(a)"
   ]
  },
  {
   "cell_type": "code",
   "execution_count": 3,
   "id": "2cd79848",
   "metadata": {},
   "outputs": [
    {
     "name": "stdout",
     "output_type": "stream",
     "text": [
      "3\n"
     ]
    }
   ],
   "source": [
    "def add(a,b=1):\n",
    "    print(b)\n",
    "add(1,3)"
   ]
  },
  {
   "cell_type": "code",
   "execution_count": 8,
   "id": "7af44aec",
   "metadata": {},
   "outputs": [
    {
     "name": "stdout",
     "output_type": "stream",
     "text": [
      "29\n"
     ]
    }
   ],
   "source": [
    "a=156431153\n",
    "a=str(a)\n",
    "sum1=0\n",
    "for i in range(len(a)):\n",
    "    sum1+=int(a[i])\n",
    "print(sum1)   "
   ]
  },
  {
   "cell_type": "code",
   "execution_count": 29,
   "id": "85051c5b",
   "metadata": {},
   "outputs": [
    {
     "name": "stdout",
     "output_type": "stream",
     "text": [
      "_6 5\n"
     ]
    }
   ],
   "source": [
    "def info(**kwargs):\n",
    "    for k,a in kwargs.items():\n",
    "        print(k,a)\n",
    "info(_6=5)"
   ]
  },
  {
   "cell_type": "code",
   "execution_count": 34,
   "id": "1f737d07",
   "metadata": {},
   "outputs": [
    {
     "data": {
      "text/plain": [
       "6"
      ]
     },
     "execution_count": 34,
     "metadata": {},
     "output_type": "execute_result"
    }
   ],
   "source": [
    "a=12956\n",
    "a%10"
   ]
  },
  {
   "cell_type": "code",
   "execution_count": 44,
   "id": "bf537c41",
   "metadata": {},
   "outputs": [],
   "source": [
    "a=a//10\n",
    "a=a//10\n",
    "a=a//10\n",
    "a=a//10\n",
    "a\n"
   ]
  },
  {
   "cell_type": "code",
   "execution_count": 52,
   "id": "7e8f83fb",
   "metadata": {},
   "outputs": [],
   "source": [
    "a=123\n",
    "su=0\n",
    "while a!=0:\n",
    "    su=su+(a%10)\n",
    "    a=a//10"
   ]
  },
  {
   "cell_type": "code",
   "execution_count": 53,
   "id": "0217a87b",
   "metadata": {},
   "outputs": [
    {
     "data": {
      "text/plain": [
       "6"
      ]
     },
     "execution_count": 53,
     "metadata": {},
     "output_type": "execute_result"
    }
   ],
   "source": [
    "su"
   ]
  },
  {
   "cell_type": "code",
   "execution_count": null,
   "id": "fa9bff68",
   "metadata": {},
   "outputs": [],
   "source": []
  }
 ],
 "metadata": {
  "kernelspec": {
   "display_name": "Python 3 (ipykernel)",
   "language": "python",
   "name": "python3"
  },
  "language_info": {
   "codemirror_mode": {
    "name": "ipython",
    "version": 3
   },
   "file_extension": ".py",
   "mimetype": "text/x-python",
   "name": "python",
   "nbconvert_exporter": "python",
   "pygments_lexer": "ipython3",
   "version": "3.11.5"
  }
 },
 "nbformat": 4,
 "nbformat_minor": 5
}
