{
 "cells": [
  {
   "cell_type": "code",
   "execution_count": 1,
   "id": "063c95d8",
   "metadata": {},
   "outputs": [],
   "source": [
    "list1=[5,45,56,51,\"Thermax\"]\n",
    "list1.append(\"[Sansera]\")"
   ]
  },
  {
   "cell_type": "code",
   "execution_count": 2,
   "id": "4075a0c4",
   "metadata": {},
   "outputs": [
    {
     "data": {
      "text/plain": [
       "[5, 45, 56, 51, 'Thermax', '[Sansera]']"
      ]
     },
     "execution_count": 2,
     "metadata": {},
     "output_type": "execute_result"
    }
   ],
   "source": [
    "list1"
   ]
  },
  {
   "cell_type": "code",
   "execution_count": 23,
   "id": "bb5a72cd",
   "metadata": {},
   "outputs": [],
   "source": [
    "list1=[5,45,56,51,\"Thermax\"]\n",
    "list1.extend(['HEllo',5,6,6])"
   ]
  },
  {
   "cell_type": "code",
   "execution_count": 24,
   "id": "2572a2c2",
   "metadata": {},
   "outputs": [
    {
     "data": {
      "text/plain": [
       "[5, 45, 56, 51, 'Thermax', 'HEllo', 5, 6, 6]"
      ]
     },
     "execution_count": 24,
     "metadata": {},
     "output_type": "execute_result"
    }
   ],
   "source": [
    "list1"
   ]
  },
  {
   "cell_type": "code",
   "execution_count": 29,
   "id": "30b32aa1",
   "metadata": {},
   "outputs": [
    {
     "data": {
      "text/plain": [
       "['Welcome', 'to', 'USA.', 'usa', 'awesome,', \"isn't\", 'it?']"
      ]
     },
     "execution_count": 29,
     "metadata": {},
     "output_type": "execute_result"
    }
   ],
   "source": [
    "str1 = \"Welcome to USA. usa awesome, isn't it?\"\n",
    "str1=str1.split()\n",
    "str1"
   ]
  },
  {
   "cell_type": "code",
   "execution_count": 30,
   "id": "2fc61aac",
   "metadata": {},
   "outputs": [
    {
     "data": {
      "text/plain": [
       "0"
      ]
     },
     "execution_count": 30,
     "metadata": {},
     "output_type": "execute_result"
    }
   ],
   "source": [
    "str1.count(\"USA\")"
   ]
  },
  {
   "cell_type": "code",
   "execution_count": 32,
   "id": "70c0af8e",
   "metadata": {},
   "outputs": [
    {
     "data": {
      "text/plain": [
       "2"
      ]
     },
     "execution_count": 32,
     "metadata": {},
     "output_type": "execute_result"
    }
   ],
   "source": [
    "str1 = \"Welcome to USA. usa awesome, isn't it?\"\n",
    "str2=str1.upper()\n",
    "str2.count(\"USA\")"
   ]
  },
  {
   "cell_type": "code",
   "execution_count": 40,
   "id": "fa12411d",
   "metadata": {},
   "outputs": [
    {
     "name": "stdout",
     "output_type": "stream",
     "text": [
      "6.333333333333333\n"
     ]
    }
   ],
   "source": [
    "str1 = \"PYnative29@#8496\"\n",
    "res=0\n",
    "count=0\n",
    "for i in range(len(str1)):\n",
    "    if str1[i].isdigit():\n",
    "        count=count+1\n",
    "        res=res + int(str1[i])\n",
    "print(res/count)\n"
   ]
  },
  {
   "cell_type": "code",
   "execution_count": 38,
   "id": "0f7851f3",
   "metadata": {},
   "outputs": [
    {
     "data": {
      "text/plain": [
       "38"
      ]
     },
     "execution_count": 38,
     "metadata": {},
     "output_type": "execute_result"
    }
   ],
   "source": [
    "res"
   ]
  },
  {
   "cell_type": "code",
   "execution_count": 50,
   "id": "3acb8ed4",
   "metadata": {},
   "outputs": [
    {
     "name": "stdout",
     "output_type": "stream",
     "text": [
      "B  is  1\n",
      "A  is  3\n",
      "N  is  2\n",
      "A  is  3\n",
      "N  is  2\n",
      "A  is  3\n"
     ]
    }
   ],
   "source": [
    "str1 = \"BANANA\"\n",
    "for i in range(len(str1)):\n",
    "    c=str1.count(str1[i])\n",
    "    print(str1[i],\" is \",c)\n",
    "        \n",
    "               \n"
   ]
  },
  {
   "cell_type": "code",
   "execution_count": 51,
   "id": "408243d2",
   "metadata": {},
   "outputs": [
    {
     "data": {
      "text/plain": [
       "43"
      ]
     },
     "execution_count": 51,
     "metadata": {},
     "output_type": "execute_result"
    }
   ],
   "source": [
    "str1 = \"Emma is a data scientist who knows Python. Emma works at google.\"\n",
    "str1.rfind(\"Emma\")"
   ]
  },
  {
   "cell_type": "code",
   "execution_count": 58,
   "id": "4eab8e80",
   "metadata": {},
   "outputs": [],
   "source": [
    "str1 = \"Emma-is-a-data-scientist\"\n",
    "str1=str1.split(\"-\")"
   ]
  },
  {
   "cell_type": "code",
   "execution_count": 60,
   "id": "b55355ef",
   "metadata": {},
   "outputs": [
    {
     "name": "stdout",
     "output_type": "stream",
     "text": [
      "Emma\n",
      "is\n",
      "a\n",
      "data\n",
      "scientist\n"
     ]
    }
   ],
   "source": [
    "for i in str1:\n",
    "    print(i)"
   ]
  },
  {
   "cell_type": "code",
   "execution_count": 69,
   "id": "c65a6347",
   "metadata": {},
   "outputs": [
    {
     "ename": "TypeError",
     "evalue": "type 'str' is not subscriptable",
     "output_type": "error",
     "traceback": [
      "\u001b[1;31m---------------------------------------------------------------------------\u001b[0m",
      "\u001b[1;31mTypeError\u001b[0m                                 Traceback (most recent call last)",
      "Cell \u001b[1;32mIn[69], line 4\u001b[0m\n\u001b[0;32m      1\u001b[0m str_list \u001b[38;5;241m=\u001b[39m [\u001b[38;5;124m\"\u001b[39m\u001b[38;5;124mEmma\u001b[39m\u001b[38;5;124m\"\u001b[39m, \u001b[38;5;124m\"\u001b[39m\u001b[38;5;124mJon\u001b[39m\u001b[38;5;124m\"\u001b[39m, \u001b[38;5;124m\"\u001b[39m\u001b[38;5;124m\"\u001b[39m, \u001b[38;5;124m\"\u001b[39m\u001b[38;5;124mKelly\u001b[39m\u001b[38;5;124m\"\u001b[39m, \u001b[38;5;28;01mNone\u001b[39;00m, \u001b[38;5;124m\"\u001b[39m\u001b[38;5;124mEric\u001b[39m\u001b[38;5;124m\"\u001b[39m, \u001b[38;5;124m\"\u001b[39m\u001b[38;5;124m\"\u001b[39m]\n\u001b[0;32m      2\u001b[0m \u001b[38;5;28;01mfor\u001b[39;00m i \u001b[38;5;129;01min\u001b[39;00m \u001b[38;5;28mrange\u001b[39m(\u001b[38;5;28mlen\u001b[39m(str_list)):\n\u001b[1;32m----> 4\u001b[0m     \u001b[38;5;28;01mif\u001b[39;00m \u001b[38;5;28mstr\u001b[39m[i]\u001b[38;5;241m==\u001b[39m\u001b[38;5;124m\"\u001b[39m\u001b[38;5;124m\"\u001b[39m:\n\u001b[0;32m      5\u001b[0m         \u001b[38;5;28;01mdel\u001b[39;00m \u001b[38;5;28mstr\u001b[39m[i]\n",
      "\u001b[1;31mTypeError\u001b[0m: type 'str' is not subscriptable"
     ]
    }
   ],
   "source": [
    "str_list = [\"Emma\", \"Jon\", \"\", \"Kelly\", None, \"Eric\", \"\"]\n",
    "for i in range(len(str_list)):\n",
    "    \n",
    "    if str[i]==\"\":\n",
    "        del str[i]\n",
    "\n",
    "        \n"
   ]
  },
  {
   "cell_type": "code",
   "execution_count": 68,
   "id": "3af27711",
   "metadata": {},
   "outputs": [
    {
     "data": {
      "text/plain": [
       "['Emma', 'Jon', '', 'Kelly', None, 'Eric', '']"
      ]
     },
     "execution_count": 68,
     "metadata": {},
     "output_type": "execute_result"
    }
   ],
   "source": [
    "str_list"
   ]
  },
  {
   "cell_type": "code",
   "execution_count": 80,
   "id": "44d0fd78",
   "metadata": {},
   "outputs": [
    {
     "data": {
      "text/plain": [
       "['Emma', 'Jon', 'Kelly', 'Eric']"
      ]
     },
     "execution_count": 80,
     "metadata": {},
     "output_type": "execute_result"
    }
   ],
   "source": [
    "str_list = [\"Emma\", \"Jon\", \"\", \"Kelly\", None, \"Eric\", \"\"]\n",
    "str_list=list(filter(None,str_list))\n",
    "str_list\n"
   ]
  },
  {
   "cell_type": "code",
   "execution_count": 74,
   "id": "23ffba1c",
   "metadata": {},
   "outputs": [
    {
     "name": "stdout",
     "output_type": "stream",
     "text": [
      "['Emma', 'Jon', 'Kelly', 'Eric']\n"
     ]
    }
   ],
   "source": [
    "str_list = [\"Emma\", \"Jon\", \"\", \"Kelly\", None, \"Eric\", \"\"]\n",
    "res_list = []\n",
    "for s in str_list:\n",
    "    # check for non empty string\n",
    "    if s:\n",
    "        res_list.append(s)\n",
    "print(res_list)\n"
   ]
  },
  {
   "cell_type": "code",
   "execution_count": 87,
   "id": "4b43ce6a",
   "metadata": {},
   "outputs": [
    {
     "data": {
      "text/plain": [
       "'Jon is developer  musician'"
      ]
     },
     "execution_count": 87,
     "metadata": {},
     "output_type": "execute_result"
    }
   ],
   "source": [
    "str1 = \"/*Jon is @developer & musician\"\n",
    "str2=\"\"\n",
    "for char in str1:\n",
    "    if char.isalpha() or char.isnumeric() or char==\" \":\n",
    "        str2+=char\n",
    "    else:\n",
    "        str2+=char.replace(char,\"\")\n",
    "str2\n",
    "    "
   ]
  },
  {
   "cell_type": "markdown",
   "id": "43dce5bb",
   "metadata": {},
   "source": [
    "        "
   ]
  },
  {
   "cell_type": "code",
   "execution_count": 85,
   "id": "93d984a2",
   "metadata": {},
   "outputs": [
    {
     "data": {
      "text/plain": [
       "''"
      ]
     },
     "execution_count": 85,
     "metadata": {},
     "output_type": "execute_result"
    }
   ],
   "source": [
    "str1 = \"/*Jon is @developer & musician\"\n",
    "str2=\"\"\n",
    "for char in str1:\n",
    "    if char.isalpha() or char.isnumeric() or char==\" \":\n",
    "        str2+=char.replace(char,\"\")\n",
    "str2"
   ]
  },
  {
   "cell_type": "code",
   "execution_count": 89,
   "id": "0c2f188b",
   "metadata": {},
   "outputs": [
    {
     "data": {
      "text/plain": [
       "'2510'"
      ]
     },
     "execution_count": 89,
     "metadata": {},
     "output_type": "execute_result"
    }
   ],
   "source": [
    "str1 = 'I am 25 years and 10 months old'\n",
    "str2=\"\"\n",
    "for char in str1:\n",
    "    if char.isnumeric():\n",
    "        str2+=char\n",
    "str2"
   ]
  },
  {
   "cell_type": "code",
   "execution_count": 95,
   "id": "8b3fca68",
   "metadata": {},
   "outputs": [
    {
     "name": "stdout",
     "output_type": "stream",
     "text": [
      "I\n",
      "am\n",
      "25\n",
      "years\n",
      "and\n",
      "10\n",
      "months\n",
      "old\n"
     ]
    }
   ],
   "source": [
    "str1 = 'I am 25 years and 10 months old'\n",
    "str1=str1.split()\n",
    "for char in str1:\n",
    "    print(char)"
   ]
  },
  {
   "cell_type": "code",
   "execution_count": 102,
   "id": "b7e7c31a",
   "metadata": {},
   "outputs": [
    {
     "name": "stdout",
     "output_type": "stream",
     "text": [
      "['Emma25', 'is', 'Data', 'scientist50', 'and', 'AI', 'Expert']\n",
      "Emma25\n",
      "scientist50\n"
     ]
    }
   ],
   "source": [
    "str1 = \"Emma25 is Data scientist50 and AI Expert\"\n",
    "str2=str1.split()\n",
    "print(str2)\n",
    "for char in str2:\n",
    "    if char.isnumeric() or char.isalpha():\n",
    "        pass\n",
    "    else:\n",
    "        print(char)"
   ]
  },
  {
   "cell_type": "code",
   "execution_count": 108,
   "id": "3f81b751",
   "metadata": {},
   "outputs": [
    {
     "name": "stdout",
     "output_type": "stream",
     "text": [
      "##Jon is #developer # musician##\n"
     ]
    }
   ],
   "source": [
    "str1 = '/*Jon is @developer & musician!!'\n",
    "str2=\"\"\n",
    "for char in str1:\n",
    "    if char.isalnum() or char==\" \":\n",
    "        str2+=char\n",
    "    else:\n",
    "        str2=str2+char.replace(char,\"#\")\n",
    "print(str2)"
   ]
  },
  {
   "cell_type": "code",
   "execution_count": 109,
   "id": "7c6cae25",
   "metadata": {},
   "outputs": [
    {
     "name": "stdout",
     "output_type": "stream",
     "text": [
      "(0, '/')\n",
      "(1, '*')\n",
      "(2, 'J')\n",
      "(3, 'o')\n",
      "(4, 'n')\n",
      "(5, ' ')\n",
      "(6, 'i')\n",
      "(7, 's')\n",
      "(8, ' ')\n",
      "(9, '@')\n",
      "(10, 'd')\n",
      "(11, 'e')\n",
      "(12, 'v')\n",
      "(13, 'e')\n",
      "(14, 'l')\n",
      "(15, 'o')\n",
      "(16, 'p')\n",
      "(17, 'e')\n",
      "(18, 'r')\n",
      "(19, ' ')\n",
      "(20, '&')\n",
      "(21, ' ')\n",
      "(22, 'm')\n",
      "(23, 'u')\n",
      "(24, 's')\n",
      "(25, 'i')\n",
      "(26, 'c')\n",
      "(27, 'i')\n",
      "(28, 'a')\n",
      "(29, 'n')\n",
      "(30, '!')\n",
      "(31, '!')\n"
     ]
    }
   ],
   "source": [
    "for i in enumerate(str1):\n",
    "    print(i"
   ]
  },
  {
   "cell_type": "code",
   "execution_count": null,
   "id": "e67d713b",
   "metadata": {},
   "outputs": [],
   "source": []
  }
 ],
 "metadata": {
  "kernelspec": {
   "display_name": "Python 3 (ipykernel)",
   "language": "python",
   "name": "python3"
  },
  "language_info": {
   "codemirror_mode": {
    "name": "ipython",
    "version": 3
   },
   "file_extension": ".py",
   "mimetype": "text/x-python",
   "name": "python",
   "nbconvert_exporter": "python",
   "pygments_lexer": "ipython3",
   "version": "3.11.5"
  }
 },
 "nbformat": 4,
 "nbformat_minor": 5
}
