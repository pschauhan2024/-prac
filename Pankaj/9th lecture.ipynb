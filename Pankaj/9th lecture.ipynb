{
 "cells": [
  {
   "cell_type": "code",
   "execution_count": 1,
   "id": "a964afd8",
   "metadata": {},
   "outputs": [
    {
     "name": "stdout",
     "output_type": "stream",
     "text": [
      "SHubHam\n"
     ]
    }
   ],
   "source": [
    "a=\"Shubham\"\n",
    "for i in range(0,len(a)-1):\n",
    "        a=a.replace(\"h\",\"H\")\n",
    "print(a)\n",
    "\n",
    "        \n",
    "        \n",
    "     "
   ]
  },
  {
   "cell_type": "code",
   "execution_count": 2,
   "id": "c908a952",
   "metadata": {},
   "outputs": [
    {
     "name": "stdout",
     "output_type": "stream",
     "text": [
      "hello\n"
     ]
    }
   ],
   "source": [
    "a=\"hello\"\n",
    "if a==\"hello\":\n",
    "    print(a)"
   ]
  },
  {
   "cell_type": "code",
   "execution_count": 3,
   "id": "25fd85b1",
   "metadata": {},
   "outputs": [
    {
     "data": {
      "text/plain": [
       "range(0, 8)"
      ]
     },
     "execution_count": 3,
     "metadata": {},
     "output_type": "execute_result"
    }
   ],
   "source": [
    "b=range(0,8,)\n",
    "b"
   ]
  },
  {
   "cell_type": "code",
   "execution_count": 4,
   "id": "1d273502",
   "metadata": {},
   "outputs": [
    {
     "name": "stdout",
     "output_type": "stream",
     "text": [
      "1\n",
      "2\n",
      "A\n",
      "1.2\n",
      "(1+2j)\n"
     ]
    }
   ],
   "source": [
    "a=[1,2,\"A\",1.2,1+2j]\n",
    "for i in range(0,len(a)):\n",
    "    if type(a[i])==int:\n",
    "        print(a[i])\n",
    "    if type(a[i])==complex:\n",
    "        print(a[i])\n",
    "    if type(a[i])==str:\n",
    "        print(a[i])\n",
    "    if type(a[i])==float:\n",
    "        print(a[i])"
   ]
  },
  {
   "cell_type": "code",
   "execution_count": 5,
   "id": "54f187da",
   "metadata": {},
   "outputs": [
    {
     "data": {
      "text/plain": [
       "'0a0a0a0a0'"
      ]
     },
     "execution_count": 5,
     "metadata": {},
     "output_type": "execute_result"
    }
   ],
   "source": [
    "\"a\".join(\"00000\")"
   ]
  },
  {
   "cell_type": "code",
   "execution_count": 6,
   "id": "a9cbc156",
   "metadata": {},
   "outputs": [
    {
     "data": {
      "text/plain": [
       "'football.play.Lets.India.jgghjkj.Hello'"
      ]
     },
     "execution_count": 6,
     "metadata": {},
     "output_type": "execute_result"
    }
   ],
   "source": [
    "a=\"Hello jgghjkj India Lets play football\" \n",
    "a=a.split()\n",
    "a.reverse()\n",
    "\".\".join(a)"
   ]
  },
  {
   "cell_type": "code",
   "execution_count": 7,
   "id": "8d774cff",
   "metadata": {},
   "outputs": [],
   "source": [
    "b=len(a)-1"
   ]
  },
  {
   "cell_type": "code",
   "execution_count": 8,
   "id": "6245934c",
   "metadata": {},
   "outputs": [
    {
     "ename": "SyntaxError",
     "evalue": "invalid syntax (4247454967.py, line 2)",
     "output_type": "error",
     "traceback": [
      "\u001b[1;36m  Cell \u001b[1;32mIn[8], line 2\u001b[1;36m\u001b[0m\n\u001b[1;33m    for\u001b[0m\n\u001b[1;37m        ^\u001b[0m\n\u001b[1;31mSyntaxError\u001b[0m\u001b[1;31m:\u001b[0m invalid syntax\n"
     ]
    }
   ],
   "source": [
    "c=[]\n",
    "for \n",
    "    print(a.reverse())\n",
    "    \n",
    "    \n",
    "    "
   ]
  },
  {
   "cell_type": "code",
   "execution_count": null,
   "id": "52625602",
   "metadata": {},
   "outputs": [],
   "source": [
    "for i in range(88):\n",
    "    print(i,end=\" \")"
   ]
  },
  {
   "cell_type": "code",
   "execution_count": null,
   "id": "ebf4fdf2",
   "metadata": {},
   "outputs": [],
   "source": [
    "a=[5,\"2\",51]\n",
    "a.append(input(\"hjkk\")\")\n",
    "print(a)\n",
    "len(a)"
   ]
  },
  {
   "cell_type": "code",
   "execution_count": null,
   "id": "8cbb39c0",
   "metadata": {},
   "outputs": [],
   "source": [
    "n = [ ]\n",
    "for x in range(0,16):\n",
    "    n=input(\"sjh\")\n",
    "    \n",
    "    \n",
    "print(n)"
   ]
  },
  {
   "cell_type": "code",
   "execution_count": 2,
   "id": "f414ff8b",
   "metadata": {},
   "outputs": [
    {
     "ename": "ZeroDivisionError",
     "evalue": "integer modulo by zero",
     "output_type": "error",
     "traceback": [
      "\u001b[1;31m---------------------------------------------------------------------------\u001b[0m",
      "\u001b[1;31mZeroDivisionError\u001b[0m                         Traceback (most recent call last)",
      "Cell \u001b[1;32mIn[2], line 1\u001b[0m\n\u001b[1;32m----> 1\u001b[0m \u001b[38;5;241m0\u001b[39m\u001b[38;5;241m%\u001b[39m\u001b[38;5;241m0\u001b[39m\n",
      "\u001b[1;31mZeroDivisionError\u001b[0m: integer modulo by zero"
     ]
    }
   ],
   "source": [
    "0%0\n"
   ]
  },
  {
   "cell_type": "code",
   "execution_count": null,
   "id": "2bd32f13",
   "metadata": {},
   "outputs": [],
   "source": []
  },
  {
   "cell_type": "code",
   "execution_count": null,
   "id": "7f9de9c3",
   "metadata": {},
   "outputs": [],
   "source": []
  }
 ],
 "metadata": {
  "kernelspec": {
   "display_name": "Python 3 (ipykernel)",
   "language": "python",
   "name": "python3"
  },
  "language_info": {
   "codemirror_mode": {
    "name": "ipython",
    "version": 3
   },
   "file_extension": ".py",
   "mimetype": "text/x-python",
   "name": "python",
   "nbconvert_exporter": "python",
   "pygments_lexer": "ipython3",
   "version": "3.11.5"
  }
 },
 "nbformat": 4,
 "nbformat_minor": 5
}
