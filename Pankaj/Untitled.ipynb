{
 "cells": [
  {
   "cell_type": "code",
   "execution_count": null,
   "id": "3f1bef70",
   "metadata": {},
   "outputs": [],
   "source": [
    "a=[255,22,453435,212]\n",
    "sorted(a,reverse=True)  "
   ]
  },
  {
   "cell_type": "code",
   "execution_count": null,
   "id": "e7bb9965",
   "metadata": {},
   "outputs": [],
   "source": [
    "abs(-12553.26)"
   ]
  },
  {
   "cell_type": "code",
   "execution_count": null,
   "id": "31527893",
   "metadata": {},
   "outputs": [],
   "source": [
    "round(323.121513)"
   ]
  },
  {
   "cell_type": "code",
   "execution_count": null,
   "id": "2e61c09d",
   "metadata": {},
   "outputs": [],
   "source": [
    "ord('4')"
   ]
  },
  {
   "cell_type": "code",
   "execution_count": null,
   "id": "8c8590b0",
   "metadata": {
    "scrolled": true
   },
   "outputs": [],
   "source": [
    "pow(56,2250)"
   ]
  },
  {
   "cell_type": "code",
   "execution_count": null,
   "id": "fb3be292",
   "metadata": {},
   "outputs": [],
   "source": [
    "22/7"
   ]
  },
  {
   "cell_type": "code",
   "execution_count": null,
   "id": "502dde55",
   "metadata": {},
   "outputs": [],
   "source": []
  },
  {
   "cell_type": "code",
   "execution_count": null,
   "id": "3f21cd24",
   "metadata": {},
   "outputs": [],
   "source": [
    "a.items()"
   ]
  },
  {
   "cell_type": "code",
   "execution_count": null,
   "id": "4ae371e8",
   "metadata": {},
   "outputs": [],
   "source": [
    "chr(5446)"
   ]
  },
  {
   "cell_type": "code",
   "execution_count": null,
   "id": "ee3e9d80",
   "metadata": {},
   "outputs": [],
   "source": [
    "user=int(input(\"Enter the number \"))\n",
    "if user%2==0:\n",
    "    print(\"Even\")\n",
    "else:\n",
    "    print(\"Odd\")"
   ]
  },
  {
   "cell_type": "code",
   "execution_count": null,
   "id": "2d0d14a5",
   "metadata": {},
   "outputs": [],
   "source": [
    "user=int(input(\"Enter the number \"))\n",
    "if user>0 or user<0 or user==0:\n",
    "    if user<100:\n",
    "        print(\"Less than 100\")\n",
    "    elif user>100:\n",
    "        print(\"greater than 100\")\n",
    "    else:\n",
    "        print(\"Equal to 100\")"
   ]
  },
  {
   "cell_type": "code",
   "execution_count": null,
   "id": "0ff42c40",
   "metadata": {},
   "outputs": [],
   "source": [
    "    else:\n"
   ]
  },
  {
   "cell_type": "code",
   "execution_count": null,
   "id": "e162d60a",
   "metadata": {},
   "outputs": [],
   "source": []
  },
  {
   "cell_type": "code",
   "execution_count": null,
   "id": "8a8e486d",
   "metadata": {},
   "outputs": [],
   "source": [
    "user=int(input(\"Enter the number \"))\n",
    "if user>0 :\n",
    "    print(\"Positive\")\n",
    "    if user<100:\n",
    "        print(\"Less than 100\")\n",
    "    elif user>100:\n",
    "        print(\"greater than 100\")\n",
    "    else:\n",
    "        print(\"Equal to 100\")\n",
    "else:\n",
    "    print(\"Negative number\")"
   ]
  },
  {
   "cell_type": "markdown",
   "id": "435ff54b",
   "metadata": {},
   "source": [
    "fORMATING "
   ]
  },
  {
   "cell_type": "code",
   "execution_count": 4,
   "id": "359ee68d",
   "metadata": {},
   "outputs": [],
   "source": [
    "a=56"
   ]
  },
  {
   "cell_type": "code",
   "execution_count": 5,
   "id": "f64b517d",
   "metadata": {},
   "outputs": [],
   "source": [
    "b=\"Batch\""
   ]
  },
  {
   "cell_type": "code",
   "execution_count": 6,
   "id": "1ffbfd5a",
   "metadata": {},
   "outputs": [
    {
     "name": "stdout",
     "output_type": "stream",
     "text": [
      "My number is 56 in Batch\n"
     ]
    }
   ],
   "source": [
    "print(f\"My number is {a} in {b}\")"
   ]
  },
  {
   "cell_type": "code",
   "execution_count": 7,
   "id": "5122da6e",
   "metadata": {},
   "outputs": [
    {
     "name": "stdout",
     "output_type": "stream",
     "text": [
      "My number is Batch in 56 is 56\n"
     ]
    }
   ],
   "source": [
    "print(\"My number is {} in {} is {}\".format(b,a,a))"
   ]
  },
  {
   "cell_type": "code",
   "execution_count": 24,
   "id": "c85e150a",
   "metadata": {},
   "outputs": [
    {
     "name": "stdout",
     "output_type": "stream",
     "text": [
      "My number Batch in 56\n"
     ]
    }
   ],
   "source": [
    "print(\"My number %s in %d\" % (b,a))"
   ]
  },
  {
   "cell_type": "code",
   "execution_count": 1,
   "id": "ea7579fa",
   "metadata": {},
   "outputs": [
    {
     "name": "stdout",
     "output_type": "stream",
     "text": [
      "0\n",
      "1\n",
      "2\n",
      "3\n",
      "4\n"
     ]
    }
   ],
   "source": [
    "i=0\n",
    "while i<5:\n",
    "    print(i)\n",
    "    i+=1"
   ]
  },
  {
   "cell_type": "code",
   "execution_count": 10,
   "id": "2de1aa41",
   "metadata": {},
   "outputs": [
    {
     "name": "stdout",
     "output_type": "stream",
     "text": [
      "1\n",
      "3\n",
      "5\n",
      "7\n",
      "9\n"
     ]
    }
   ],
   "source": [
    "i=10\n",
    "for i in range(1,10,2):\n",
    "    print(i)"
   ]
  },
  {
   "cell_type": "code",
   "execution_count": 33,
   "id": "8b3c26ee",
   "metadata": {},
   "outputs": [
    {
     "name": "stdout",
     "output_type": "stream",
     "text": [
      "EVEN is 0\n",
      " ODD is 1\n",
      "EVEN is 2\n",
      " ODD is 3\n",
      "EVEN is 4\n",
      " ODD is 5\n",
      "EVEN is 6\n",
      " ODD is 7\n",
      "EVEN is 8\n",
      " ODD is 9\n"
     ]
    }
   ],
   "source": [
    "i=0\n",
    "while i<10:\n",
    "    if i%2==0:\n",
    "        print(f\"EVEN is {i}\")\n",
    "    else:\n",
    "        print(f\" ODD is {i}\")\n",
    "    i+=1"
   ]
  },
  {
   "cell_type": "code",
   "execution_count": 2,
   "id": "2e1b4d9e",
   "metadata": {},
   "outputs": [
    {
     "data": {
      "text/plain": [
       "[2, 4, 6, 8]"
      ]
     },
     "execution_count": 2,
     "metadata": {},
     "output_type": "execute_result"
    }
   ],
   "source": [
    "list(range(2,10,2))"
   ]
  },
  {
   "cell_type": "code",
   "execution_count": 5,
   "id": "c94d6cb8",
   "metadata": {},
   "outputs": [
    {
     "name": "stdout",
     "output_type": "stream",
     "text": [
      "3\n",
      "5\n",
      "7\n",
      "9\n"
     ]
    }
   ],
   "source": [
    "for i in range(3,10,2):\n",
    "    print(i)"
   ]
  },
  {
   "cell_type": "code",
   "execution_count": 10,
   "id": "b83985c2",
   "metadata": {},
   "outputs": [
    {
     "name": "stdout",
     "output_type": "stream",
     "text": [
      "4\n",
      "5\n",
      "5\n",
      "4\n"
     ]
    }
   ],
   "source": [
    "a=\"4554\"\n",
    "for var in a:\n",
    "    if var.isdigit():\n",
    "        \n",
    "        print(var)"
   ]
  },
  {
   "cell_type": "code",
   "execution_count": 32,
   "id": "ea486f15",
   "metadata": {},
   "outputs": [
    {
     "name": "stdout",
     "output_type": "stream",
     "text": [
      "The number  20 is 56\n",
      "The number 20 is 56 \n"
     ]
    }
   ],
   "source": [
    "a=20\n",
    "b=56\n",
    "print(\"The number \",a,\"is\",b)\n",
    "print(f\"The number {a} is {b} \")"
   ]
  },
  {
   "cell_type": "code",
   "execution_count": 16,
   "id": "b6c07f8b",
   "metadata": {},
   "outputs": [
    {
     "name": "stdout",
     "output_type": "stream",
     "text": [
      "The number is 5 is 5\n"
     ]
    }
   ],
   "source": [
    "print(\"The number is {} is {}\".format(a,a))"
   ]
  },
  {
   "cell_type": "code",
   "execution_count": 28,
   "id": "334f9f32",
   "metadata": {},
   "outputs": [
    {
     "name": "stdout",
     "output_type": "stream",
     "text": [
      "The number is 5 gu 20\n"
     ]
    }
   ],
   "source": [
    "print(\"The number is %d gu %d\" %(5,20))"
   ]
  },
  {
   "cell_type": "code",
   "execution_count": 1,
   "id": "aa3c12ae",
   "metadata": {},
   "outputs": [
    {
     "name": "stdout",
     "output_type": "stream",
     "text": [
      "0\n",
      "1\n",
      "2\n",
      "3\n",
      "4\n",
      "5\n",
      "6\n",
      "7\n",
      "8\n",
      "9\n"
     ]
    }
   ],
   "source": [
    "a=0\n",
    "while a<10:\n",
    "    print(a)\n",
    "    a=a+1"
   ]
  },
  {
   "cell_type": "code",
   "execution_count": 3,
   "id": "c6e5f8be",
   "metadata": {},
   "outputs": [
    {
     "ename": "TypeError",
     "evalue": "object of type 'int' has no len()",
     "output_type": "error",
     "traceback": [
      "\u001b[1;31m---------------------------------------------------------------------------\u001b[0m",
      "\u001b[1;31mTypeError\u001b[0m                                 Traceback (most recent call last)",
      "Cell \u001b[1;32mIn[3], line 5\u001b[0m\n\u001b[0;32m      2\u001b[0m a\u001b[38;5;241m=\u001b[39m\u001b[38;5;241m0\u001b[39m\n\u001b[0;32m      3\u001b[0m b\u001b[38;5;241m=\u001b[39m\u001b[38;5;241m0\u001b[39m\n\u001b[1;32m----> 5\u001b[0m \u001b[38;5;28;01mfor\u001b[39;00m i \u001b[38;5;129;01min\u001b[39;00m \u001b[38;5;28mrange\u001b[39m(\u001b[38;5;28mlen\u001b[39m(user)):\n\u001b[0;32m      7\u001b[0m     \u001b[38;5;28mprint\u001b[39m(b)\n\u001b[0;32m      8\u001b[0m     user\u001b[38;5;241m=\u001b[39m\u001b[38;5;28mint\u001b[39m(\u001b[38;5;28minput\u001b[39m())\n",
      "\u001b[1;31mTypeError\u001b[0m: object of type 'int' has no len()"
     ]
    }
   ],
   "source": [
    "user=0\n",
    "a=0\n",
    "b=0\n",
    "\n",
    "for i in range(len(user)):\n",
    "    \n",
    "    print(b)\n",
    "    user=int(input())\n",
    "    user=int(user)\n",
    "    if user<0:\n",
    "        break\n",
    "    else:\n",
    "        a=a+user\n",
    "        print(a)\n",
    "        "
   ]
  },
  {
   "cell_type": "code",
   "execution_count": 12,
   "id": "ded0258f",
   "metadata": {},
   "outputs": [
    {
     "data": {
      "text/plain": [
       "1"
      ]
     },
     "execution_count": 12,
     "metadata": {},
     "output_type": "execute_result"
    }
   ],
   "source": [
    "a=\"1\"\n",
    "len(a)"
   ]
  },
  {
   "cell_type": "code",
   "execution_count": 7,
   "id": "225f03b7",
   "metadata": {},
   "outputs": [
    {
     "name": "stdout",
     "output_type": "stream",
     "text": [
      "User5\n",
      "5 sum\n",
      "User10\n",
      "15 sum\n",
      "User12\n",
      "27 sum\n",
      "User-5\n",
      "27\n"
     ]
    }
   ],
   "source": [
    "a=1\n",
    "b=0\n",
    "while a>0:\n",
    "    a=int(input(\"User\"))\n",
    "    if a>0:\n",
    "        b=b+a\n",
    "        print(b,\"sum\")\n",
    "    else:\n",
    "        break\n",
    "print(b)\n",
    "        "
   ]
  },
  {
   "cell_type": "code",
   "execution_count": 38,
   "id": "e1466154",
   "metadata": {},
   "outputs": [
    {
     "name": "stdout",
     "output_type": "stream",
     "text": [
      "19\n"
     ]
    }
   ],
   "source": [
    "b=\"\"\n",
    "count=0\n",
    "for i in range(100):\n",
    "    \n",
    "    a=str(i)\n",
    "    #rint(type(a))\n",
    "    if \"3\" in a:\n",
    "        b=b+\" \"+a\n",
    "        count=count+1\n",
    "print(count)\n",
    "b=b.split(\" \")\n",
    "\n",
    "        "
   ]
  },
  {
   "cell_type": "code",
   "execution_count": 41,
   "id": "5d2c4e2e",
   "metadata": {},
   "outputs": [
    {
     "name": "stdout",
     "output_type": "stream",
     "text": [
      "3\n",
      "13\n",
      "23\n",
      "30\n",
      "31\n",
      "32\n",
      "33\n",
      "34\n",
      "35\n",
      "36\n",
      "37\n",
      "38\n",
      "39\n",
      "43\n",
      "53\n",
      "63\n",
      "73\n",
      "83\n",
      "93\n",
      "['3', '13', '23', '30', '31', '32', '33', '34', '35', '36', '37', '38', '39', '43', '53', '63', '73', '83', '93']\n"
     ]
    }
   ],
   "source": [
    "b=[]\n",
    "c=0\n",
    "for i in range(100):\n",
    "    c=0\n",
    "    a=str(i)\n",
    "    #rint(type(a))\n",
    "    if \"3\" in a:\n",
    "        print(a)\n",
    "        b.append(a)\n",
    "print(b)\n"
   ]
  },
  {
   "cell_type": "code",
   "execution_count": 57,
   "id": "ee19cd55",
   "metadata": {},
   "outputs": [
    {
     "name": "stdout",
     "output_type": "stream",
     "text": [
      "[3, 16, 39, 69, 100, 132, 165, 199, 234, 270, 307, 345, 384, 427, 480, 543, 616, 699, 792]\n",
      "['3', '13', '23', '30', '31', '32', '33', '34', '35', '36', '37', '38', '39', '43', '53', '63', '73', '83', '93']\n",
      "792\n"
     ]
    }
   ],
   "source": [
    "b=[]\n",
    "d=[]\n",
    "c=0\n",
    "for i in range(100):\n",
    "   \n",
    "    a=str(i)\n",
    "    #rint(type(a))\n",
    "    if \"3\" in a:\n",
    "        c=c+int(a)\n",
    "        b.append(c)\n",
    "        d.append(a)\n",
    "print(b)\n",
    "print(d)\n",
    "print(c)"
   ]
  },
  {
   "cell_type": "code",
   "execution_count": 7,
   "id": "74a72a0a",
   "metadata": {},
   "outputs": [
    {
     "name": "stdout",
     "output_type": "stream",
     "text": [
      "Enter the number dgsgk\n",
      "0\n"
     ]
    },
    {
     "ename": "TypeError",
     "evalue": "unsupported operand type(s) for +: 'int' and 'str'",
     "output_type": "error",
     "traceback": [
      "\u001b[1;31m---------------------------------------------------------------------------\u001b[0m",
      "\u001b[1;31mTypeError\u001b[0m                                 Traceback (most recent call last)",
      "Cell \u001b[1;32mIn[7], line 8\u001b[0m\n\u001b[0;32m      6\u001b[0m \u001b[38;5;28mprint\u001b[39m(i)\n\u001b[0;32m      7\u001b[0m \u001b[38;5;28;01mif\u001b[39;00m i\u001b[38;5;241m%\u001b[39m\u001b[38;5;241m2\u001b[39m\u001b[38;5;241m==\u001b[39m\u001b[38;5;241m0\u001b[39m:\n\u001b[1;32m----> 8\u001b[0m     b\u001b[38;5;241m=\u001b[39mb\u001b[38;5;241m+\u001b[39ma[i]\n\u001b[0;32m      9\u001b[0m \u001b[38;5;28;01melse\u001b[39;00m:\n\u001b[0;32m     10\u001b[0m     c\u001b[38;5;241m=\u001b[39mc\u001b[38;5;241m+\u001b[39ma[i]\n",
      "\u001b[1;31mTypeError\u001b[0m: unsupported operand type(s) for +: 'int' and 'str'"
     ]
    }
   ],
   "source": [
    "a=input(\"Enter the number \")\n",
    "b=\"\"\n",
    "c=\"\"\n",
    "for i in range(len(a)):\n",
    "    b=a.index(a[i])\n",
    "    print(i)\n",
    "    if i%2==0:\n",
    "        b=b+a[i]\n",
    "    else:\n",
    "        c=c+a[i]\n",
    "        \n",
    "        \n",
    "    "
   ]
  },
  {
   "cell_type": "code",
   "execution_count": 5,
   "id": "9d0fac72",
   "metadata": {},
   "outputs": [
    {
     "data": {
      "text/plain": [
       "0"
      ]
     },
     "execution_count": 5,
     "metadata": {},
     "output_type": "execute_result"
    }
   ],
   "source": [
    "a=\"hhdfhd,\"\n",
    "a.index(a[0])"
   ]
  },
  {
   "cell_type": "code",
   "execution_count": null,
   "id": "8b24a9bc",
   "metadata": {},
   "outputs": [],
   "source": []
  }
 ],
 "metadata": {
  "kernelspec": {
   "display_name": "Python 3 (ipykernel)",
   "language": "python",
   "name": "python3"
  },
  "language_info": {
   "codemirror_mode": {
    "name": "ipython",
    "version": 3
   },
   "file_extension": ".py",
   "mimetype": "text/x-python",
   "name": "python",
   "nbconvert_exporter": "python",
   "pygments_lexer": "ipython3",
   "version": "3.11.5"
  }
 },
 "nbformat": 4,
 "nbformat_minor": 5
}
