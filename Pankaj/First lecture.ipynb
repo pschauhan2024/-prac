{
 "cells": [
  {
   "cell_type": "code",
   "execution_count": 1,
   "id": "3eb5be63",
   "metadata": {},
   "outputs": [
    {
     "ename": "NameError",
     "evalue": "name 'Hello' is not defined",
     "output_type": "error",
     "traceback": [
      "\u001b[1;31m---------------------------------------------------------------------------\u001b[0m",
      "\u001b[1;31mNameError\u001b[0m                                 Traceback (most recent call last)",
      "Cell \u001b[1;32mIn[1], line 1\u001b[0m\n\u001b[1;32m----> 1\u001b[0m Hello\n",
      "\u001b[1;31mNameError\u001b[0m: name 'Hello' is not defined"
     ]
    }
   ],
   "source": [
    "Hello"
   ]
  },
  {
   "cell_type": "code",
   "execution_count": 2,
   "id": "580d20b8",
   "metadata": {},
   "outputs": [
    {
     "name": "stdout",
     "output_type": "stream",
     "text": [
      "Hello\n"
     ]
    }
   ],
   "source": [
    "print(\"Hello\")"
   ]
  },
  {
   "cell_type": "code",
   "execution_count": 3,
   "id": "45fd785e",
   "metadata": {},
   "outputs": [],
   "source": [
    "?print"
   ]
  },
  {
   "cell_type": "code",
   "execution_count": 4,
   "id": "fa58a255",
   "metadata": {},
   "outputs": [],
   "source": [
    "name = \"Pankaj\""
   ]
  },
  {
   "cell_type": "code",
   "execution_count": 5,
   "id": "2458a876",
   "metadata": {},
   "outputs": [
    {
     "data": {
      "text/plain": [
       "True"
      ]
     },
     "execution_count": 5,
     "metadata": {},
     "output_type": "execute_result"
    }
   ],
   "source": [
    "name.isidentifier()"
   ]
  },
  {
   "cell_type": "code",
   "execution_count": 7,
   "id": "c46d1e3b",
   "metadata": {},
   "outputs": [
    {
     "data": {
      "text/plain": [
       "False"
      ]
     },
     "execution_count": 7,
     "metadata": {},
     "output_type": "execute_result"
    }
   ],
   "source": [
    "m = \"4512Pankaj\"\n",
    "m.isidentifier()"
   ]
  },
  {
   "cell_type": "code",
   "execution_count": 9,
   "id": "9594acee",
   "metadata": {},
   "outputs": [
    {
     "data": {
      "text/plain": [
       "True"
      ]
     },
     "execution_count": 9,
     "metadata": {},
     "output_type": "execute_result"
    }
   ],
   "source": [
    "m=\"_\"\n",
    "m.isidentifier()a"
   ]
  },
  {
   "cell_type": "code",
   "execution_count": 10,
   "id": "1fa699b9",
   "metadata": {},
   "outputs": [],
   "source": [
    "# print a word "
   ]
  },
  {
   "cell_type": "code",
   "execution_count": 14,
   "id": "4a890656",
   "metadata": {},
   "outputs": [],
   "source": [
    "\"\"\"ijhihiuj\n",
    "lkljll\n",
    "lopkpo\"\"\"\n",
    "'''jkhkbkhbjk'''\n",
    "a=\"dh\""
   ]
  },
  {
   "cell_type": "code",
   "execution_count": 15,
   "id": "5d4ad51d",
   "metadata": {},
   "outputs": [],
   "source": [
    "name = \" hello\""
   ]
  },
  {
   "cell_type": "code",
   "execution_count": 34,
   "id": "c13a1bc6",
   "metadata": {},
   "outputs": [
    {
     "name": "stdout",
     "output_type": "stream",
     "text": [
      "Object `identifier` not found.\n"
     ]
    }
   ],
   "source": [
    "?identifier"
   ]
  },
  {
   "cell_type": "code",
   "execution_count": 16,
   "id": "74a77495",
   "metadata": {},
   "outputs": [
    {
     "data": {
      "text/plain": [
       "' hello'"
      ]
     },
     "execution_count": 16,
     "metadata": {},
     "output_type": "execute_result"
    }
   ],
   "source": [
    "name"
   ]
  },
  {
   "cell_type": "code",
   "execution_count": 17,
   "id": "3c3cf714",
   "metadata": {},
   "outputs": [
    {
     "data": {
      "text/plain": [
       "2587409806896"
      ]
     },
     "execution_count": 17,
     "metadata": {},
     "output_type": "execute_result"
    }
   ],
   "source": [
    "id(name)"
   ]
  },
  {
   "cell_type": "code",
   "execution_count": 23,
   "id": "b6d162c3",
   "metadata": {},
   "outputs": [
    {
     "name": "stdout",
     "output_type": "stream",
     "text": [
      "Ramesh\n"
     ]
    }
   ],
   "source": [
    "str_name=\"Ramesh\"\n",
    "str_name.isidentifier()\n",
    "print(str_name)"
   ]
  },
  {
   "cell_type": "code",
   "execution_count": 22,
   "id": "abb4946c",
   "metadata": {},
   "outputs": [
    {
     "data": {
      "text/plain": [
       "True"
      ]
     },
     "execution_count": 22,
     "metadata": {},
     "output_type": "execute_result"
    }
   ],
   "source": [
    "name=\"rameh\"\n",
    "name.isidentifier()"
   ]
  },
  {
   "cell_type": "code",
   "execution_count": 25,
   "id": "81d12289",
   "metadata": {},
   "outputs": [
    {
     "name": "stdout",
     "output_type": "stream",
     "text": [
      "19.5\n"
     ]
    }
   ],
   "source": [
    "\"\"\" Add the\n",
    "number\"\"\"\n",
    "a=15 #integer\n",
    "b=4.5 # Float\n",
    "print(a+b)\n"
   ]
  },
  {
   "cell_type": "code",
   "execution_count": 26,
   "id": "ae877ca7",
   "metadata": {},
   "outputs": [
    {
     "name": "stdout",
     "output_type": "stream",
     "text": [
      " First day \n"
     ]
    }
   ],
   "source": [
    "print(\" First day \")"
   ]
  },
  {
   "cell_type": "code",
   "execution_count": 27,
   "id": "1b8beb67",
   "metadata": {},
   "outputs": [
    {
     "name": "stdout",
     "output_type": "stream",
     "text": [
      "-0.13797468354430387\n"
     ]
    }
   ],
   "source": [
    "a= 79\n",
    "b=89.9\n",
    "print((a-b)/a)"
   ]
  },
  {
   "cell_type": "code",
   "execution_count": 31,
   "id": "15adb25f",
   "metadata": {},
   "outputs": [
    {
     "name": "stdout",
     "output_type": "stream",
     "text": [
      " Ramesh <class 'str'> String 2587425720240\n",
      "8278 <class 'int'> Integer\n",
      "8292.89 <class 'float'> float\n",
      "(9+9j) <class 'complex'> Complex\n"
     ]
    }
   ],
   "source": [
    "str_name= \" Ramesh\"\n",
    "Int_name=8278\n",
    "float_number= 8292.89\n",
    "complex_number=9+9j\n",
    "print(str_name,type(str_name),\"String\",id(str_name))\n",
    "print(Int_name,type(Int_name),\"Integer\")\n",
    "print(float_number,type(float_number),\"float\")\n",
    "print(complex_number,type(complex_number),\"Complex\")"
   ]
  },
  {
   "cell_type": "code",
   "execution_count": 30,
   "id": "abaef346",
   "metadata": {},
   "outputs": [
    {
     "data": {
      "text/plain": [
       "2587425720752"
      ]
     },
     "execution_count": 30,
     "metadata": {},
     "output_type": "execute_result"
    }
   ],
   "source": [
    "id(str_name)"
   ]
  },
  {
   "cell_type": "code",
   "execution_count": 32,
   "id": "8a6593ec",
   "metadata": {},
   "outputs": [
    {
     "data": {
      "text/plain": [
       "8292"
      ]
     },
     "execution_count": 32,
     "metadata": {},
     "output_type": "execute_result"
    }
   ],
   "source": [
    "int(float_number)"
   ]
  },
  {
   "cell_type": "code",
   "execution_count": 33,
   "id": "d2c454d1",
   "metadata": {},
   "outputs": [
    {
     "data": {
      "text/plain": [
       "False"
      ]
     },
     "execution_count": 33,
     "metadata": {},
     "output_type": "execute_result"
    }
   ],
   "source": [
    "a=\"0o\"\n",
    "a.isidentifier()"
   ]
  },
  {
   "cell_type": "code",
   "execution_count": 38,
   "id": "2f2e8759",
   "metadata": {},
   "outputs": [
    {
     "name": "stdout",
     "output_type": "stream",
     "text": [
      "4512635.54 4512635\n"
     ]
    }
   ],
   "source": [
    "a=4512635.54\n",
    "print(a,int(a))"
   ]
  },
  {
   "cell_type": "code",
   "execution_count": 49,
   "id": "15210999",
   "metadata": {},
   "outputs": [
    {
     "name": "stdout",
     "output_type": "stream",
     "text": [
      "5456 <class 'float'>\n",
      "5456.665456566\n"
     ]
    }
   ],
   "source": [
    "a =\"dadar\"\n",
    "type(a)\n",
    "b=5456.665456566\n",
    "type(b)\n",
    "print(int(b))\n",
    "print(str(b))\n"
   ]
  },
  {
   "cell_type": "code",
   "execution_count": 51,
   "id": "c1f34de7",
   "metadata": {},
   "outputs": [
    {
     "name": "stdout",
     "output_type": "stream",
     "text": [
      "<class 'int'>\n"
     ]
    }
   ],
   "source": [
    "b=int(b)\n",
    "print(type(b))"
   ]
  },
  {
   "cell_type": "code",
   "execution_count": 52,
   "id": "e211036c",
   "metadata": {},
   "outputs": [
    {
     "name": "stdout",
     "output_type": "stream",
     "text": [
      "<class 'str'>\n"
     ]
    }
   ],
   "source": [
    "b=str(b)\n",
    "print(type(b))"
   ]
  },
  {
   "cell_type": "code",
   "execution_count": 64,
   "id": "f27e04ff",
   "metadata": {},
   "outputs": [
    {
     "name": "stdout",
     "output_type": "stream",
     "text": [
      "-13.5 -9.5 -6.0 -5.75 0.5 132.25\n"
     ]
    }
   ],
   "source": [
    "a=-11.5\n",
    "b=2\n",
    "print(a-b,a+b,a//b,a/b,a%b,a**b)\n"
   ]
  },
  {
   "cell_type": "code",
   "execution_count": null,
   "id": "b96c72fc",
   "metadata": {},
   "outputs": [],
   "source": []
  }
 ],
 "metadata": {
  "kernelspec": {
   "display_name": "Python 3 (ipykernel)",
   "language": "python",
   "name": "python3"
  },
  "language_info": {
   "codemirror_mode": {
    "name": "ipython",
    "version": 3
   },
   "file_extension": ".py",
   "mimetype": "text/x-python",
   "name": "python",
   "nbconvert_exporter": "python",
   "pygments_lexer": "ipython3",
   "version": "3.11.5"
  }
 },
 "nbformat": 4,
 "nbformat_minor": 5
}
