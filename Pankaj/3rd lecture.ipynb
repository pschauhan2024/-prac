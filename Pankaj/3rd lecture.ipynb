{
 "cells": [
  {
   "cell_type": "code",
   "execution_count": 10,
   "id": "9bf98891",
   "metadata": {},
   "outputs": [
    {
     "name": "stdout",
     "output_type": "stream",
     "text": [
      "False\n"
     ]
    }
   ],
   "source": [
    "a=8\n",
    "b=6\n",
    "if not b<a :\n",
    "    print(\"True\")\n",
    "print(\"False\")\n",
    "    "
   ]
  },
  {
   "cell_type": "code",
   "execution_count": 18,
   "id": "91afd14d",
   "metadata": {},
   "outputs": [
    {
     "name": "stdout",
     "output_type": "stream",
     "text": [
      "jj\n"
     ]
    }
   ],
   "source": [
    "a=8\n",
    "b=10\n",
    "if b is a :\n",
    "    print(\"True\")\n",
    "print(\"jj\")"
   ]
  },
  {
   "cell_type": "code",
   "execution_count": 25,
   "id": "918060b4",
   "metadata": {},
   "outputs": [
    {
     "name": "stdout",
     "output_type": "stream",
     "text": [
      "present\n"
     ]
    }
   ],
   "source": [
    "c=\"hii hellod\"\n",
    "if 'k'not in c:\n",
    "    print(\"present\")\n"
   ]
  },
  {
   "cell_type": "code",
   "execution_count": 29,
   "id": "cc63b5f6",
   "metadata": {},
   "outputs": [
    {
     "name": "stdout",
     "output_type": "stream",
     "text": [
      "True\n"
     ]
    }
   ],
   "source": [
    "if not a>b or a is b or ('k' in c) :\n",
    "    print(\"True\")\n",
    "else:\n",
    "    print(\"False\")\n"
   ]
  },
  {
   "cell_type": "code",
   "execution_count": 36,
   "id": "245ddd95",
   "metadata": {},
   "outputs": [
    {
     "name": "stdout",
     "output_type": "stream",
     "text": [
      "Fail\n"
     ]
    }
   ],
   "source": [
    "m=56\n",
    "if m>=95:\n",
    "    print(\"A+\")\n",
    "elif m>85:\n",
    "    print(\"A\")\n",
    "elif m>60:\n",
    "    print(\"B\")\n",
    "else:\n",
    "    print(\"Fail\")\n",
    "    "
   ]
  },
  {
   "cell_type": "code",
   "execution_count": 48,
   "id": "7b9c40c2",
   "metadata": {},
   "outputs": [
    {
     "name": "stdout",
     "output_type": "stream",
     "text": [
      "A+\n",
      "A\n",
      "B\n"
     ]
    },
    {
     "data": {
      "text/plain": [
       "256"
      ]
     },
     "execution_count": 48,
     "metadata": {},
     "output_type": "execute_result"
    }
   ],
   "source": [
    "m=256\n",
    "if m>=95:\n",
    "    print(\"A+\")\n",
    "if m>85:\n",
    "    print(\"A\")\n",
    "if m>60:\n",
    "    print(\"B\")\n",
    "else:\n",
    "    print(\"Fail\")\n",
    "m"
   ]
  },
  {
   "cell_type": "markdown",
   "id": "5a8f570c",
   "metadata": {},
   "source": []
  },
  {
   "cell_type": "code",
   "execution_count": 50,
   "id": "eecfc502",
   "metadata": {},
   "outputs": [
    {
     "data": {
      "text/plain": [
       "140730090435336"
      ]
     },
     "execution_count": 50,
     "metadata": {},
     "output_type": "execute_result"
    }
   ],
   "source": [
    "id(m)"
   ]
  },
  {
   "cell_type": "code",
   "execution_count": 53,
   "id": "cfd23685",
   "metadata": {},
   "outputs": [
    {
     "name": "stdout",
     "output_type": "stream",
     "text": [
      "------------------8\n"
     ]
    }
   ],
   "source": [
    "ANIM= \"tiger\"\n",
    "if 'k' in ANIM:\n",
    "    print(\"Tiger Zinda Hai 5\")\n",
    "elif \"p\" in ANIM:\n",
    "    print(\"------------------6\")\n",
    "else:\n",
    "    print(\"------------------8\")"
   ]
  },
  {
   "cell_type": "code",
   "execution_count": 55,
   "id": "6a25621c",
   "metadata": {},
   "outputs": [
    {
     "name": "stdout",
     "output_type": "stream",
     "text": [
      " Enter The name of Animal : Lion\n",
      "King \n"
     ]
    }
   ],
   "source": [
    "Animal=input(\" Enter The name of Animal : \")\n",
    "if Animal== \"Lion\":\n",
    "    print(\"King \")\n",
    "elif Animal ==\"Tiger\"    :\n",
    "    print(\"KIngs way\")\n",
    "elif Animal == \"Giraffe\":\n",
    "    print(\"Long Neck\")\n",
    "elif Animal == \"Hen\":\n",
    "    print(\" HEN\")\n",
    "elif Animal == \"Horse\":\n",
    "    print(\"HORSE\")\n",
    "else:\n",
    "    print(\"Come agian\")\n",
    "\n"
   ]
  },
  {
   "cell_type": "code",
   "execution_count": 56,
   "id": "49b1d144",
   "metadata": {},
   "outputs": [
    {
     "name": "stdout",
     "output_type": "stream",
     "text": [
      "Enter the name of productijdkks\n",
      "GIve me RS100000\n"
     ]
    }
   ],
   "source": [
    "Store=input(\"Enter the name of product\")\n",
    "if Store==\"IPHONE 9\":\n",
    "    print(\"RS 80000\")\n",
    "elif Store == \"IPHONE 8\":\n",
    "    print(\"Rs 150000\")\n",
    "else:\n",
    "    print('GIve me RS100000')"
   ]
  },
  {
   "cell_type": "code",
   "execution_count": 58,
   "id": "34b2d20d",
   "metadata": {},
   "outputs": [
    {
     "name": "stdout",
     "output_type": "stream",
     "text": [
      "Enter the time6\n",
      "Exit Time\n"
     ]
    }
   ],
   "source": [
    "t=input(\"Enter the time: \"\")\n",
    "if t==\"1\":\n",
    "    print(\"Closed\")\n",
    "elif t==\"2\":\n",
    "    print(\"Not allowed\")\n",
    "elif t==\"3\":\n",
    "    print(\"Entry Time\")\n",
    "elif t==\"4\":\n",
    "    print(\"In middle of work\")\n",
    "else:\n",
    "    print(\"Exit Time\")"
   ]
  },
  {
   "cell_type": "code",
   "execution_count": null,
   "id": "0225ae17",
   "metadata": {},
   "outputs": [],
   "source": []
  }
 ],
 "metadata": {
  "kernelspec": {
   "display_name": "Python 3 (ipykernel)",
   "language": "python",
   "name": "python3"
  },
  "language_info": {
   "codemirror_mode": {
    "name": "ipython",
    "version": 3
   },
   "file_extension": ".py",
   "mimetype": "text/x-python",
   "name": "python",
   "nbconvert_exporter": "python",
   "pygments_lexer": "ipython3",
   "version": "3.11.5"
  }
 },
 "nbformat": 4,
 "nbformat_minor": 5
}
